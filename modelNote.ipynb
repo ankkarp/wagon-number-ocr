{
 "cells": [
  {
   "cell_type": "code",
   "execution_count": 88,
   "outputs": [],
   "source": [
    "from ultralytics import YOLO\n",
    "from mmocr.apis import MMOCRInferencer\n",
    "from modelscope.pipelines import pipeline\n",
    "from modelscope.utils.constant import Tasks\n",
    "import torch\n",
    "import cv2\n",
    "import os\n",
    "import csv\n",
    "from os import walk\n",
    "import pandas as pd\n",
    "import re"
   ],
   "metadata": {
    "collapsed": false
   }
  },
  {
   "cell_type": "code",
   "execution_count": 99,
   "outputs": [],
   "source": [
    "'''\n",
    "    detection_mode: ./models/custom_yolov8pt_25_orig.pt\n",
    "    rec_model: damo/cv_convnextTiny_ocr-recognition-general_damo\n",
    "    angle_rec_model: Aster\n",
    "'''\n",
    "\n",
    "DETECTION_SAVE_PATH = './yolo_detections/results/crops/number/'\n",
    "MODEL_RESULT_PATH = './model_result/results.csv'\n",
    "\n",
    "BIN_TYPES = {\n",
    "    'ADAPTIVE_THRESH_GAUSSIAN_C': cv2.ADAPTIVE_THRESH_GAUSSIAN_C,\n",
    "    'ADAPTIVE_THRESH_MEAN_C': cv2.ADAPTIVE_THRESH_MEAN_C,\n",
    "    'THRESH_OTSU': cv2.THRESH_OTSU\n",
    "}\n",
    "\n",
    "class NumberOcrModel:\n",
    "    def __init__(self, detection_model, rec_model, angle_rec_model):\n",
    "        self.detection_model = YOLO(detection_model)\n",
    "        self.rec_model = pipeline(Tasks.ocr_recognition, model=rec_model)\n",
    "        self.angle_rec_model = MMOCRInferencer(rec=angle_rec_model)\n",
    "\n",
    "        self.detection_result = None\n",
    "        self.img_path = None\n",
    "        self.image_name = None\n",
    "        self.bin_type = None\n",
    "        self.rec_result = None\n",
    "\n",
    "        self.prepare_model()\n",
    "\n",
    "    def prepare_model(self):\n",
    "        if torch.cuda.is_available():\n",
    "            self.detection_model.to('cuda')\n",
    "\n",
    "    def preprocess(self, image_path, image_name, bin_prep):\n",
    "        detection_result = self.detection_model.predict(image_path, save = True, save_crop=True, project='yolo_detections', name='results')\n",
    "\n",
    "        if detection_result and bin_prep:\n",
    "            img = cv2.imread(DETECTION_SAVE_PATH + image_name)\n",
    "            blur_img = cv2.GaussianBlur(img,(1,1),0)\n",
    "            bin_img = cv2.adaptiveThreshold(blur_img, 255, BIN_TYPES[bin_prep], cv2.THRESH_BINARY_INV, 29, -4)\n",
    "            cv2.imwrite(DETECTION_SAVE_PATH + image_name, bin_img)\n",
    "\n",
    "        return detection_result\n",
    "\n",
    "    def recognize(self, image_name, detected_data):\n",
    "        if len(detected_data[0].boxes.cpu().boxes.numpy()) == 0:\n",
    "            return [{\n",
    "                'filename': image_name,\n",
    "                'type': 0,\n",
    "                'number': 0,\n",
    "                'is_correct': 0,\n",
    "                'model': 'Recognition_model',\n",
    "                'is_correct_rec': False\n",
    "            },\n",
    "            {\n",
    "                'filename': image_name,\n",
    "                'type': 0,\n",
    "                'number': 0,\n",
    "                'is_correct': 0,\n",
    "                'model': 'Angle_recognition_model',\n",
    "                'is_correct_rec': False\n",
    "            }]\n",
    "\n",
    "        all_dirs = os.listdir('./yolo_detections')\n",
    "        max_length = len(max(all_dirs, key=len))\n",
    "        data_dir = sorted([x for x in all_dirs if len(x) == max_length])[-1]\n",
    "\n",
    "        crop_img_path = f'./yolo_detections/{data_dir}/crops/number/' + image_name\n",
    "        rec_result = self.rec_model(crop_img_path)\n",
    "        angle_rec_result = self.angle_rec_model(crop_img_path)\n",
    "\n",
    "        num_1 = re.sub(r'[^0-9]', '', rec_result['text'][0])\n",
    "        num_2 =  re.sub(r'[^0-9]', '', angle_rec_result['predictions'][0]['rec_texts'][0])\n",
    "\n",
    "        result = [\n",
    "            {\n",
    "                'filename': image_name,\n",
    "                'type': (0, 1)[len(num_1) > 0],\n",
    "                'number': num_1,\n",
    "                'is_correct': is_valid(num_1),\n",
    "                'model': 'Recognition_model',\n",
    "                'is_correct_rec': num_1 == image_name[:-4]\n",
    "            },\n",
    "            {\n",
    "                'filename': image_name,\n",
    "                'type': (0, 1)[len(num_2) > 0],\n",
    "                'number': num_2,\n",
    "                'is_correct': is_valid(num_2),\n",
    "                'model': 'Angle_recognition_model',\n",
    "                'is_correct_rec': num_2 == image_name[:-4]\n",
    "            }\n",
    "        ]\n",
    "        return result\n",
    "\n",
    "    def predict(self, img_path, bin_prep = None):\n",
    "        image_name = os.path.basename(os.path.normpath(img_path))\n",
    "        detected_data = self.preprocess(img_path, image_name, bin_prep)\n",
    "\n",
    "        return self.recognize(image_name, detected_data)\n",
    "\n"
   ],
   "metadata": {
    "collapsed": false
   }
  },
  {
   "cell_type": "code",
   "execution_count": 100,
   "outputs": [
    {
     "name": "stderr",
     "output_type": "stream",
     "text": [
      "2023-10-14 14:19:46,998 - modelscope - INFO - Model revision not specified, use revision: v2.3.0\n",
      "2023-10-14 14:19:47,671 - modelscope - INFO - initiate model from C:\\Users\\Олег\\.cache\\modelscope\\hub\\damo\\cv_convnextTiny_ocr-recognition-general_damo\n",
      "2023-10-14 14:19:47,672 - modelscope - INFO - initiate model from location C:\\Users\\Олег\\.cache\\modelscope\\hub\\damo\\cv_convnextTiny_ocr-recognition-general_damo.\n",
      "2023-10-14 14:19:47,678 - modelscope - INFO - initialize model from C:\\Users\\Олег\\.cache\\modelscope\\hub\\damo\\cv_convnextTiny_ocr-recognition-general_damo\n",
      "2023-10-14 14:19:47,896 - modelscope - INFO - loading model from dir C:\\Users\\Олег\\.cache\\modelscope\\hub\\damo\\cv_convnextTiny_ocr-recognition-general_damo\n",
      "2023-10-14 14:19:48,024 - modelscope - INFO - loading model done\n"
     ]
    },
    {
     "name": "stdout",
     "output_type": "stream",
     "text": [
      "Loads checkpoint by http backend from path: https://download.openmmlab.com/mmocr/textrecog/aster/aster_resnet45_6e_st_mj/aster_resnet45_6e_st_mj-cc56eca4.pth\n"
     ]
    },
    {
     "name": "stderr",
     "output_type": "stream",
     "text": [
      "C:\\temp\\Anaconda\\lib\\site-packages\\mmengine\\visualization\\visualizer.py:196: UserWarning: Failed to add <class 'mmengine.visualization.vis_backend.LocalVisBackend'>, please provide the `save_dir` argument.\n",
      "  warnings.warn(f'Failed to add {vis_backend.__class__}, '\n"
     ]
    }
   ],
   "source": [
    "model = NumberOcrModel(\n",
    "    detection_model='./models/custom_yolov8pt_25_orig.pt',\n",
    "    rec_model='damo/cv_convnextTiny_ocr-recognition-general_damo',\n",
    "    angle_rec_model='Aster'\n",
    ")"
   ],
   "metadata": {
    "collapsed": false
   }
  },
  {
   "cell_type": "code",
   "execution_count": 73,
   "outputs": [
    {
     "name": "stderr",
     "output_type": "stream",
     "text": [
      "\n",
      "image 1/1 C:\\Users\\\\PycharmProjects\\Wagon_number_OCR\\data\\42338186.jpg: 800x736 1 number, 121.1ms\n",
      "Speed: 5.0ms preprocess, 121.1ms inference, 1.0ms postprocess per image at shape (1, 3, 800, 736)\n",
      "Results saved to \u001B[1myolo_detections\\results15\u001B[0m\n",
      "WARNING  'Boxes.boxes' is deprecated. Use 'Boxes.data' instead.\n"
     ]
    },
    {
     "data": {
      "text/plain": "Output()",
      "application/vnd.jupyter.widget-view+json": {
       "version_major": 2,
       "version_minor": 0,
       "model_id": "97ad4a9e6f844b77a0d243d56298ad06"
      }
     },
     "metadata": {},
     "output_type": "display_data"
    },
    {
     "data": {
      "text/plain": "\n",
      "text/html": "<pre style=\"white-space:pre;overflow-x:auto;line-height:normal;font-family:Menlo,'DejaVu Sans Mono',consolas,'Courier New',monospace\">\n</pre>\n"
     },
     "metadata": {},
     "output_type": "display_data"
    },
    {
     "name": "stdout",
     "output_type": "stream",
     "text": [
      "['results', 'results10', 'results11', 'results12', 'results13', 'results14', 'results15', 'results2', 'results3', 'results4', 'results5', 'results6', 'results7', 'results8', 'results9']\n"
     ]
    },
    {
     "data": {
      "text/plain": "",
      "text/html": "<pre style=\"white-space:pre;overflow-x:auto;line-height:normal;font-family:Menlo,'DejaVu Sans Mono',consolas,'Courier New',monospace\"></pre>\n"
     },
     "metadata": {},
     "output_type": "display_data"
    },
    {
     "data": {
      "text/plain": "\n",
      "text/html": "<pre style=\"white-space:pre;overflow-x:auto;line-height:normal;font-family:Menlo,'DejaVu Sans Mono',consolas,'Courier New',monospace\">\n</pre>\n"
     },
     "metadata": {},
     "output_type": "display_data"
    }
   ],
   "source": [
    "# test_res = model.predict('./data/42338186.jpg')\n",
    "# print(test_res)"
   ],
   "metadata": {
    "collapsed": false
   }
  },
  {
   "cell_type": "code",
   "execution_count": 97,
   "outputs": [],
   "source": [
    "def is_valid(result):\n",
    "        cont_sum = 0\n",
    "        control_num = -1\n",
    "\n",
    "        if len(result) == 8:\n",
    "            control_num = int(result[-1:])\n",
    "            cont_sum = 0\n",
    "            for i in range(7):\n",
    "                num = int(result[i]) * (2, 1)[i % 2 == 1]\n",
    "                if num >= 10:\n",
    "                    cont_sum += sum(list(map(int, set(str(num)))))\n",
    "                else:\n",
    "                    cont_sum += num\n",
    "        return int((10 - cont_sum % 10) == control_num)\n",
    "\n",
    "\n",
    "def to_csv(results):\n",
    "    with open(MODEL_RESULT_PATH, 'w', encoding='UTF8') as f:\n",
    "        fields = ('filename', 'type', 'number', 'is_correct', 'model', 'is_correct_rec')\n",
    "        writer = csv.DictWriter(f, fieldnames=fields, lineterminator = '\\n')\n",
    "        writer.writeheader()\n",
    "        for res in results:\n",
    "            writer.writerow(res[0])\n",
    "            writer.writerow(res[1])"
   ],
   "metadata": {
    "collapsed": false
   }
  },
  {
   "cell_type": "code",
   "execution_count": 101,
   "outputs": [
    {
     "name": "stderr",
     "output_type": "stream",
     "text": [
      "\n",
      "image 1/1 C:\\Users\\\\PycharmProjects\\Wagon_number_OCR\\test_images\\28005312.jpg: 480x800 1 number, 85.0ms\n",
      "Speed: 3.0ms preprocess, 85.0ms inference, 2.0ms postprocess per image at shape (1, 3, 480, 800)\n",
      "Results saved to \u001B[1myolo_detections\\results40\u001B[0m\n",
      "WARNING  'Boxes.boxes' is deprecated. Use 'Boxes.data' instead.\n"
     ]
    },
    {
     "data": {
      "text/plain": "Output()",
      "application/vnd.jupyter.widget-view+json": {
       "version_major": 2,
       "version_minor": 0,
       "model_id": "966784e326eb4ed7b6838c76b45dfccf"
      }
     },
     "metadata": {},
     "output_type": "display_data"
    },
    {
     "data": {
      "text/plain": "\n",
      "text/html": "<pre style=\"white-space:pre;overflow-x:auto;line-height:normal;font-family:Menlo,'DejaVu Sans Mono',consolas,'Courier New',monospace\">\n</pre>\n"
     },
     "metadata": {},
     "output_type": "display_data"
    },
    {
     "data": {
      "text/plain": "",
      "text/html": "<pre style=\"white-space:pre;overflow-x:auto;line-height:normal;font-family:Menlo,'DejaVu Sans Mono',consolas,'Courier New',monospace\"></pre>\n"
     },
     "metadata": {},
     "output_type": "display_data"
    },
    {
     "data": {
      "text/plain": "\n",
      "text/html": "<pre style=\"white-space:pre;overflow-x:auto;line-height:normal;font-family:Menlo,'DejaVu Sans Mono',consolas,'Courier New',monospace\">\n</pre>\n"
     },
     "metadata": {},
     "output_type": "display_data"
    },
    {
     "name": "stderr",
     "output_type": "stream",
     "text": [
      "\n",
      "image 1/1 C:\\Users\\\\PycharmProjects\\Wagon_number_OCR\\test_images\\28008332.jpg: 480x800 1 number, 84.0ms\n",
      "Speed: 4.0ms preprocess, 84.0ms inference, 2.0ms postprocess per image at shape (1, 3, 480, 800)\n",
      "Results saved to \u001B[1myolo_detections\\results41\u001B[0m\n",
      "WARNING  'Boxes.boxes' is deprecated. Use 'Boxes.data' instead.\n"
     ]
    },
    {
     "data": {
      "text/plain": "Output()",
      "application/vnd.jupyter.widget-view+json": {
       "version_major": 2,
       "version_minor": 0,
       "model_id": "29f3de473bb449ac85044bee20289e85"
      }
     },
     "metadata": {},
     "output_type": "display_data"
    },
    {
     "data": {
      "text/plain": "\n",
      "text/html": "<pre style=\"white-space:pre;overflow-x:auto;line-height:normal;font-family:Menlo,'DejaVu Sans Mono',consolas,'Courier New',monospace\">\n</pre>\n"
     },
     "metadata": {},
     "output_type": "display_data"
    },
    {
     "data": {
      "text/plain": "",
      "text/html": "<pre style=\"white-space:pre;overflow-x:auto;line-height:normal;font-family:Menlo,'DejaVu Sans Mono',consolas,'Courier New',monospace\"></pre>\n"
     },
     "metadata": {},
     "output_type": "display_data"
    },
    {
     "data": {
      "text/plain": "\n",
      "text/html": "<pre style=\"white-space:pre;overflow-x:auto;line-height:normal;font-family:Menlo,'DejaVu Sans Mono',consolas,'Courier New',monospace\">\n</pre>\n"
     },
     "metadata": {},
     "output_type": "display_data"
    },
    {
     "name": "stderr",
     "output_type": "stream",
     "text": [
      "\n",
      "image 1/1 C:\\Users\\\\PycharmProjects\\Wagon_number_OCR\\test_images\\28025021.jpg: 480x800 1 number, 86.0ms\n",
      "Speed: 3.0ms preprocess, 86.0ms inference, 2.0ms postprocess per image at shape (1, 3, 480, 800)\n",
      "Results saved to \u001B[1myolo_detections\\results42\u001B[0m\n",
      "WARNING  'Boxes.boxes' is deprecated. Use 'Boxes.data' instead.\n"
     ]
    },
    {
     "data": {
      "text/plain": "Output()",
      "application/vnd.jupyter.widget-view+json": {
       "version_major": 2,
       "version_minor": 0,
       "model_id": "59ef08450bb74894a874919ae52de4df"
      }
     },
     "metadata": {},
     "output_type": "display_data"
    },
    {
     "data": {
      "text/plain": "\n",
      "text/html": "<pre style=\"white-space:pre;overflow-x:auto;line-height:normal;font-family:Menlo,'DejaVu Sans Mono',consolas,'Courier New',monospace\">\n</pre>\n"
     },
     "metadata": {},
     "output_type": "display_data"
    },
    {
     "data": {
      "text/plain": "",
      "text/html": "<pre style=\"white-space:pre;overflow-x:auto;line-height:normal;font-family:Menlo,'DejaVu Sans Mono',consolas,'Courier New',monospace\"></pre>\n"
     },
     "metadata": {},
     "output_type": "display_data"
    },
    {
     "data": {
      "text/plain": "\n",
      "text/html": "<pre style=\"white-space:pre;overflow-x:auto;line-height:normal;font-family:Menlo,'DejaVu Sans Mono',consolas,'Courier New',monospace\">\n</pre>\n"
     },
     "metadata": {},
     "output_type": "display_data"
    },
    {
     "name": "stderr",
     "output_type": "stream",
     "text": [
      "\n",
      "image 1/1 C:\\Users\\\\PycharmProjects\\Wagon_number_OCR\\test_images\\29025210.jpg: 480x800 (no detections), 85.0ms\n",
      "Speed: 4.0ms preprocess, 85.0ms inference, 2.0ms postprocess per image at shape (1, 3, 480, 800)\n",
      "Results saved to \u001B[1myolo_detections\\results43\u001B[0m\n",
      "WARNING  'Boxes.boxes' is deprecated. Use 'Boxes.data' instead.\n",
      "\n",
      "image 1/1 C:\\Users\\\\PycharmProjects\\Wagon_number_OCR\\test_images\\29029972.jpg: 480x800 1 number, 85.0ms\n",
      "Speed: 5.0ms preprocess, 85.0ms inference, 3.0ms postprocess per image at shape (1, 3, 480, 800)\n",
      "Results saved to \u001B[1myolo_detections\\results44\u001B[0m\n",
      "WARNING  'Boxes.boxes' is deprecated. Use 'Boxes.data' instead.\n"
     ]
    },
    {
     "data": {
      "text/plain": "Output()",
      "application/vnd.jupyter.widget-view+json": {
       "version_major": 2,
       "version_minor": 0,
       "model_id": "4d92fde1cb624e77815f3795a7b817f6"
      }
     },
     "metadata": {},
     "output_type": "display_data"
    },
    {
     "data": {
      "text/plain": "\n",
      "text/html": "<pre style=\"white-space:pre;overflow-x:auto;line-height:normal;font-family:Menlo,'DejaVu Sans Mono',consolas,'Courier New',monospace\">\n</pre>\n"
     },
     "metadata": {},
     "output_type": "display_data"
    },
    {
     "data": {
      "text/plain": "",
      "text/html": "<pre style=\"white-space:pre;overflow-x:auto;line-height:normal;font-family:Menlo,'DejaVu Sans Mono',consolas,'Courier New',monospace\"></pre>\n"
     },
     "metadata": {},
     "output_type": "display_data"
    },
    {
     "data": {
      "text/plain": "\n",
      "text/html": "<pre style=\"white-space:pre;overflow-x:auto;line-height:normal;font-family:Menlo,'DejaVu Sans Mono',consolas,'Courier New',monospace\">\n</pre>\n"
     },
     "metadata": {},
     "output_type": "display_data"
    },
    {
     "name": "stderr",
     "output_type": "stream",
     "text": [
      "\n",
      "image 1/1 C:\\Users\\\\PycharmProjects\\Wagon_number_OCR\\test_images\\29051091.jpg: 480x800 (no detections), 84.0ms\n",
      "Speed: 4.0ms preprocess, 84.0ms inference, 2.0ms postprocess per image at shape (1, 3, 480, 800)\n",
      "Results saved to \u001B[1myolo_detections\\results45\u001B[0m\n",
      "WARNING  'Boxes.boxes' is deprecated. Use 'Boxes.data' instead.\n",
      "\n",
      "image 1/1 C:\\Users\\\\PycharmProjects\\Wagon_number_OCR\\test_images\\42026633.jpg: 800x736 1 number, 123.0ms\n",
      "Speed: 6.0ms preprocess, 123.0ms inference, 3.0ms postprocess per image at shape (1, 3, 800, 736)\n",
      "Results saved to \u001B[1myolo_detections\\results46\u001B[0m\n",
      "WARNING  'Boxes.boxes' is deprecated. Use 'Boxes.data' instead.\n"
     ]
    },
    {
     "data": {
      "text/plain": "Output()",
      "application/vnd.jupyter.widget-view+json": {
       "version_major": 2,
       "version_minor": 0,
       "model_id": "198eba9f1c074d5fa1a351a92050b014"
      }
     },
     "metadata": {},
     "output_type": "display_data"
    },
    {
     "data": {
      "text/plain": "\n",
      "text/html": "<pre style=\"white-space:pre;overflow-x:auto;line-height:normal;font-family:Menlo,'DejaVu Sans Mono',consolas,'Courier New',monospace\">\n</pre>\n"
     },
     "metadata": {},
     "output_type": "display_data"
    },
    {
     "data": {
      "text/plain": "",
      "text/html": "<pre style=\"white-space:pre;overflow-x:auto;line-height:normal;font-family:Menlo,'DejaVu Sans Mono',consolas,'Courier New',monospace\"></pre>\n"
     },
     "metadata": {},
     "output_type": "display_data"
    },
    {
     "data": {
      "text/plain": "\n",
      "text/html": "<pre style=\"white-space:pre;overflow-x:auto;line-height:normal;font-family:Menlo,'DejaVu Sans Mono',consolas,'Courier New',monospace\">\n</pre>\n"
     },
     "metadata": {},
     "output_type": "display_data"
    },
    {
     "name": "stderr",
     "output_type": "stream",
     "text": [
      "\n",
      "image 1/1 C:\\Users\\\\PycharmProjects\\Wagon_number_OCR\\test_images\\42026781.jpg: 480x800 1 number, 88.0ms\n",
      "Speed: 3.0ms preprocess, 88.0ms inference, 2.0ms postprocess per image at shape (1, 3, 480, 800)\n",
      "Results saved to \u001B[1myolo_detections\\results47\u001B[0m\n",
      "WARNING  'Boxes.boxes' is deprecated. Use 'Boxes.data' instead.\n"
     ]
    },
    {
     "data": {
      "text/plain": "Output()",
      "application/vnd.jupyter.widget-view+json": {
       "version_major": 2,
       "version_minor": 0,
       "model_id": "11ee0656b1804b0e99afd8f4f49cf170"
      }
     },
     "metadata": {},
     "output_type": "display_data"
    },
    {
     "data": {
      "text/plain": "\n",
      "text/html": "<pre style=\"white-space:pre;overflow-x:auto;line-height:normal;font-family:Menlo,'DejaVu Sans Mono',consolas,'Courier New',monospace\">\n</pre>\n"
     },
     "metadata": {},
     "output_type": "display_data"
    },
    {
     "data": {
      "text/plain": "",
      "text/html": "<pre style=\"white-space:pre;overflow-x:auto;line-height:normal;font-family:Menlo,'DejaVu Sans Mono',consolas,'Courier New',monospace\"></pre>\n"
     },
     "metadata": {},
     "output_type": "display_data"
    },
    {
     "data": {
      "text/plain": "\n",
      "text/html": "<pre style=\"white-space:pre;overflow-x:auto;line-height:normal;font-family:Menlo,'DejaVu Sans Mono',consolas,'Courier New',monospace\">\n</pre>\n"
     },
     "metadata": {},
     "output_type": "display_data"
    },
    {
     "name": "stderr",
     "output_type": "stream",
     "text": [
      "\n",
      "image 1/1 C:\\Users\\\\PycharmProjects\\Wagon_number_OCR\\test_images\\42026872.jpg: 800x736 1 number, 124.0ms\n",
      "Speed: 5.0ms preprocess, 124.0ms inference, 2.0ms postprocess per image at shape (1, 3, 800, 736)\n",
      "Results saved to \u001B[1myolo_detections\\results48\u001B[0m\n",
      "WARNING  'Boxes.boxes' is deprecated. Use 'Boxes.data' instead.\n"
     ]
    },
    {
     "data": {
      "text/plain": "Output()",
      "application/vnd.jupyter.widget-view+json": {
       "version_major": 2,
       "version_minor": 0,
       "model_id": "d8f99dbd610d4c4eae5e461d73346f95"
      }
     },
     "metadata": {},
     "output_type": "display_data"
    },
    {
     "data": {
      "text/plain": "\n",
      "text/html": "<pre style=\"white-space:pre;overflow-x:auto;line-height:normal;font-family:Menlo,'DejaVu Sans Mono',consolas,'Courier New',monospace\">\n</pre>\n"
     },
     "metadata": {},
     "output_type": "display_data"
    },
    {
     "data": {
      "text/plain": "",
      "text/html": "<pre style=\"white-space:pre;overflow-x:auto;line-height:normal;font-family:Menlo,'DejaVu Sans Mono',consolas,'Courier New',monospace\"></pre>\n"
     },
     "metadata": {},
     "output_type": "display_data"
    },
    {
     "data": {
      "text/plain": "\n",
      "text/html": "<pre style=\"white-space:pre;overflow-x:auto;line-height:normal;font-family:Menlo,'DejaVu Sans Mono',consolas,'Courier New',monospace\">\n</pre>\n"
     },
     "metadata": {},
     "output_type": "display_data"
    },
    {
     "name": "stdout",
     "output_type": "stream",
     "text": [
      "        filename  type     number  is_correct                    model  \\\n",
      "0   28005312.jpg     1   28005312           1        Recognition_model   \n",
      "1   28005312.jpg     1  280015312           0  Angle_recognition_model   \n",
      "2   28008332.jpg     1   28008332           1        Recognition_model   \n",
      "3   28008332.jpg     1   28006332           0  Angle_recognition_model   \n",
      "4   28025021.jpg     1   28025021           1        Recognition_model   \n",
      "5   28025021.jpg     1   28025021           1  Angle_recognition_model   \n",
      "6   29025210.jpg     0          0           0        Recognition_model   \n",
      "7   29025210.jpg     0          0           0  Angle_recognition_model   \n",
      "8   29029972.jpg     1   29029972           1        Recognition_model   \n",
      "9   29029972.jpg     1   29029972           1  Angle_recognition_model   \n",
      "10  29051091.jpg     0          0           0        Recognition_model   \n",
      "11  29051091.jpg     0          0           0  Angle_recognition_model   \n",
      "12  42026633.jpg     1   42026633           1        Recognition_model   \n",
      "13  42026633.jpg     1   42026633           1  Angle_recognition_model   \n",
      "14  42026781.jpg     1   42028781           0        Recognition_model   \n",
      "15  42026781.jpg     1   42026701           0  Angle_recognition_model   \n",
      "16  42026872.jpg     1   42026872           1        Recognition_model   \n",
      "17  42026872.jpg     1   42026872           1  Angle_recognition_model   \n",
      "\n",
      "    is_correct_rec  \n",
      "0             True  \n",
      "1            False  \n",
      "2             True  \n",
      "3            False  \n",
      "4             True  \n",
      "5             True  \n",
      "6            False  \n",
      "7            False  \n",
      "8             True  \n",
      "9             True  \n",
      "10           False  \n",
      "11           False  \n",
      "12            True  \n",
      "13            True  \n",
      "14           False  \n",
      "15           False  \n",
      "16            True  \n",
      "17            True  \n"
     ]
    }
   ],
   "source": [
    "DATA_PATH = './test_images/'\n",
    "\n",
    "images = []\n",
    "\n",
    "for (dirpath, dirnames, filenames) in walk(DATA_PATH):\n",
    "    images.extend(filenames)\n",
    "\n",
    "results = []\n",
    "\n",
    "for img in images:\n",
    "    res = model.predict(DATA_PATH + img)\n",
    "    if res:\n",
    "        results.append(res)\n",
    "\n",
    "to_csv(results)\n",
    "\n",
    "file = pd.read_csv(MODEL_RESULT_PATH)\n",
    "print(file)"
   ],
   "metadata": {
    "collapsed": false
   }
  },
  {
   "cell_type": "code",
   "execution_count": 86,
   "outputs": [],
   "source": [
    "import re\n",
    "line = re.sub(r'[^0-9]', '', '1,2')"
   ],
   "metadata": {
    "collapsed": false
   }
  },
  {
   "cell_type": "code",
   "execution_count": 87,
   "outputs": [
    {
     "data": {
      "text/plain": "'12'"
     },
     "execution_count": 87,
     "metadata": {},
     "output_type": "execute_result"
    }
   ],
   "source": [
    "line"
   ],
   "metadata": {
    "collapsed": false
   }
  },
  {
   "cell_type": "code",
   "execution_count": 92,
   "outputs": [
    {
     "data": {
      "text/plain": "'sdfsdf'"
     },
     "execution_count": 92,
     "metadata": {},
     "output_type": "execute_result"
    }
   ],
   "source": [
    "a = 'sdfsdf.jpg'\n",
    "a[:-4]"
   ],
   "metadata": {
    "collapsed": false
   }
  },
  {
   "cell_type": "code",
   "execution_count": null,
   "outputs": [],
   "source": [],
   "metadata": {
    "collapsed": false
   }
  }
 ],
 "metadata": {
  "kernelspec": {
   "display_name": "Python 3",
   "language": "python",
   "name": "python3"
  },
  "language_info": {
   "codemirror_mode": {
    "name": "ipython",
    "version": 2
   },
   "file_extension": ".py",
   "mimetype": "text/x-python",
   "name": "python",
   "nbconvert_exporter": "python",
   "pygments_lexer": "ipython2",
   "version": "2.7.6"
  }
 },
 "nbformat": 4,
 "nbformat_minor": 0
}
