{
 "cells": [
  {
   "cell_type": "code",
   "execution_count": 88,
   "outputs": [],
   "source": [
    "from ultralytics import YOLO\n",
    "from mmocr.apis import MMOCRInferencer\n",
    "from modelscope.pipelines import pipeline\n",
    "from modelscope.utils.constant import Tasks\n",
    "import torch\n",
    "import cv2\n",
    "import os\n",
    "import csv\n",
    "from os import walk\n",
    "import pandas as pd\n",
    "import re"
   ],
   "metadata": {
    "collapsed": false
   }
  },
  {
   "cell_type": "code",
   "execution_count": 89,
   "outputs": [],
   "source": [
    "'''\n",
    "    detection_mode: ./models/custom_yolov8pt_25_orig.pt\n",
    "    rec_model: damo/cv_convnextTiny_ocr-recognition-general_damo\n",
    "    angle_rec_model: Aster\n",
    "'''\n",
    "\n",
    "DETECTION_SAVE_PATH = './yolo_detections/results/crops/number/'\n",
    "MODEL_RESULT_PATH = './model_result/results.csv'\n",
    "\n",
    "BIN_TYPES = {\n",
    "    'ADAPTIVE_THRESH_GAUSSIAN_C': cv2.ADAPTIVE_THRESH_GAUSSIAN_C,\n",
    "    'ADAPTIVE_THRESH_MEAN_C': cv2.ADAPTIVE_THRESH_MEAN_C,\n",
    "    'THRESH_OTSU': cv2.THRESH_OTSU\n",
    "}\n",
    "\n",
    "class NumberOcrModel:\n",
    "    def __init__(self, detection_model, rec_model, angle_rec_model):\n",
    "        self.detection_model = YOLO(detection_model)\n",
    "        self.rec_model = pipeline(Tasks.ocr_recognition, model=rec_model)\n",
    "        self.angle_rec_model = MMOCRInferencer(rec=angle_rec_model)\n",
    "\n",
    "        self.detection_result = None\n",
    "        self.img_path = None\n",
    "        self.image_name = None\n",
    "        self.bin_type = None\n",
    "        self.rec_result = None\n",
    "\n",
    "        self.prepare_model()\n",
    "\n",
    "    def prepare_model(self):\n",
    "        if torch.cuda.is_available():\n",
    "            self.detection_model.to('cuda')\n",
    "\n",
    "    def preprocess(self, image_path, image_name, bin_prep):\n",
    "        detection_result = self.detection_model.predict(image_path, save = True, save_crop=True, project='yolo_detections', name='results')\n",
    "\n",
    "        if detection_result and bin_prep:\n",
    "            img = cv2.imread(DETECTION_SAVE_PATH + image_name)\n",
    "            blur_img = cv2.GaussianBlur(img,(1,1),0)\n",
    "            bin_img = cv2.adaptiveThreshold(blur_img, 255, BIN_TYPES[bin_prep], cv2.THRESH_BINARY_INV, 29, -4)\n",
    "            cv2.imwrite(DETECTION_SAVE_PATH + image_name, bin_img)\n",
    "\n",
    "        return detection_result\n",
    "\n",
    "    def recognize(self, image_name):\n",
    "        all_dirs = os.listdir('./yolo_detections')\n",
    "        max_length = len(max(all_dirs, key=len))\n",
    "        data_dir = sorted([x for x in all_dirs if len(x) == max_length])[-1]\n",
    "\n",
    "        crop_img_path = f'./yolo_detections/{data_dir}/crops/number/' + image_name\n",
    "        rec_result = self.rec_model(crop_img_path)\n",
    "        angle_rec_result = self.angle_rec_model(crop_img_path)\n",
    "\n",
    "        num_1 = re.sub(r'[^0-9]', '', rec_result['text'][0])\n",
    "        num_2 =  re.sub(r'[^0-9]', '', angle_rec_result['predictions'][0]['rec_texts'][0])\n",
    "\n",
    "        result = [\n",
    "            {\n",
    "                'filename': image_name,\n",
    "                'type': (0, 1)[len(num_1) > 0],\n",
    "                'number': num_1,\n",
    "                'is_correct': is_valid(num_1),\n",
    "                'model': 'Recognition_model'\n",
    "            },\n",
    "            {\n",
    "                'filename': image_name,\n",
    "                'type': (0, 1)[len(num_2) > 0],\n",
    "                'number': num_2,\n",
    "                'is_correct': is_valid(num_2),\n",
    "                'model': 'Angle_recognition_model'\n",
    "            }\n",
    "        ]\n",
    "        return result\n",
    "\n",
    "    def predict(self, img_path, bin_prep = None):\n",
    "        image_name = os.path.basename(os.path.normpath(img_path))\n",
    "        detected_data = self.preprocess(img_path, image_name, bin_prep)\n",
    "\n",
    "        if len(detected_data[0].boxes.cpu().boxes.numpy()) == 0:\n",
    "            return None\n",
    "        return self.recognize(image_name)\n",
    "\n"
   ],
   "metadata": {
    "collapsed": false
   }
  },
  {
   "cell_type": "code",
   "execution_count": 90,
   "outputs": [
    {
     "name": "stderr",
     "output_type": "stream",
     "text": [
      "2023-10-14 14:02:45,586 - modelscope - INFO - Model revision not specified, use revision: v2.3.0\n",
      "2023-10-14 14:02:46,054 - modelscope - INFO - initiate model from C:\\Users\\Олег\\.cache\\modelscope\\hub\\damo\\cv_convnextTiny_ocr-recognition-general_damo\n",
      "2023-10-14 14:02:46,055 - modelscope - INFO - initiate model from location C:\\Users\\Олег\\.cache\\modelscope\\hub\\damo\\cv_convnextTiny_ocr-recognition-general_damo.\n",
      "2023-10-14 14:02:46,060 - modelscope - INFO - initialize model from C:\\Users\\Олег\\.cache\\modelscope\\hub\\damo\\cv_convnextTiny_ocr-recognition-general_damo\n",
      "2023-10-14 14:02:46,273 - modelscope - INFO - loading model from dir C:\\Users\\Олег\\.cache\\modelscope\\hub\\damo\\cv_convnextTiny_ocr-recognition-general_damo\n",
      "2023-10-14 14:02:46,405 - modelscope - INFO - loading model done\n"
     ]
    },
    {
     "name": "stdout",
     "output_type": "stream",
     "text": [
      "Loads checkpoint by http backend from path: https://download.openmmlab.com/mmocr/textrecog/aster/aster_resnet45_6e_st_mj/aster_resnet45_6e_st_mj-cc56eca4.pth\n"
     ]
    },
    {
     "name": "stderr",
     "output_type": "stream",
     "text": [
      "C:\\temp\\Anaconda\\lib\\site-packages\\mmengine\\visualization\\visualizer.py:196: UserWarning: Failed to add <class 'mmengine.visualization.vis_backend.LocalVisBackend'>, please provide the `save_dir` argument.\n",
      "  warnings.warn(f'Failed to add {vis_backend.__class__}, '\n"
     ]
    }
   ],
   "source": [
    "model = NumberOcrModel(\n",
    "    detection_model='./models/custom_yolov8pt_25_orig.pt',\n",
    "    rec_model='damo/cv_convnextTiny_ocr-recognition-general_damo',\n",
    "    angle_rec_model='Aster'\n",
    ")"
   ],
   "metadata": {
    "collapsed": false
   }
  },
  {
   "cell_type": "code",
   "execution_count": 73,
   "outputs": [
    {
     "name": "stderr",
     "output_type": "stream",
     "text": [
      "\n",
      "image 1/1 C:\\Users\\\\PycharmProjects\\Wagon_number_OCR\\data\\42338186.jpg: 800x736 1 number, 121.1ms\n",
      "Speed: 5.0ms preprocess, 121.1ms inference, 1.0ms postprocess per image at shape (1, 3, 800, 736)\n",
      "Results saved to \u001B[1myolo_detections\\results15\u001B[0m\n",
      "WARNING  'Boxes.boxes' is deprecated. Use 'Boxes.data' instead.\n"
     ]
    },
    {
     "data": {
      "text/plain": "Output()",
      "application/vnd.jupyter.widget-view+json": {
       "version_major": 2,
       "version_minor": 0,
       "model_id": "97ad4a9e6f844b77a0d243d56298ad06"
      }
     },
     "metadata": {},
     "output_type": "display_data"
    },
    {
     "data": {
      "text/plain": "\n",
      "text/html": "<pre style=\"white-space:pre;overflow-x:auto;line-height:normal;font-family:Menlo,'DejaVu Sans Mono',consolas,'Courier New',monospace\">\n</pre>\n"
     },
     "metadata": {},
     "output_type": "display_data"
    },
    {
     "name": "stdout",
     "output_type": "stream",
     "text": [
      "['results', 'results10', 'results11', 'results12', 'results13', 'results14', 'results15', 'results2', 'results3', 'results4', 'results5', 'results6', 'results7', 'results8', 'results9']\n"
     ]
    },
    {
     "data": {
      "text/plain": "",
      "text/html": "<pre style=\"white-space:pre;overflow-x:auto;line-height:normal;font-family:Menlo,'DejaVu Sans Mono',consolas,'Courier New',monospace\"></pre>\n"
     },
     "metadata": {},
     "output_type": "display_data"
    },
    {
     "data": {
      "text/plain": "\n",
      "text/html": "<pre style=\"white-space:pre;overflow-x:auto;line-height:normal;font-family:Menlo,'DejaVu Sans Mono',consolas,'Courier New',monospace\">\n</pre>\n"
     },
     "metadata": {},
     "output_type": "display_data"
    }
   ],
   "source": [
    "# test_res = model.predict('./data/42338186.jpg')\n",
    "# print(test_res)"
   ],
   "metadata": {
    "collapsed": false
   }
  },
  {
   "cell_type": "code",
   "execution_count": 11,
   "outputs": [],
   "source": [
    "def is_valid(result):\n",
    "        cont_sum = 0\n",
    "        control_num = -1\n",
    "\n",
    "        if len(result) == 8:\n",
    "            control_num = int(result[-1:])\n",
    "            cont_sum = 0\n",
    "            for i in range(7):\n",
    "                num = int(result[i]) * (2, 1)[i % 2 == 1]\n",
    "                if num >= 10:\n",
    "                    cont_sum += sum(list(map(int, set(str(num)))))\n",
    "                else:\n",
    "                    cont_sum += num\n",
    "        return int((10 - cont_sum % 10) == control_num)\n",
    "\n",
    "\n",
    "def to_csv(results):\n",
    "    with open(MODEL_RESULT_PATH, 'w', encoding='UTF8') as f:\n",
    "        fields = ('filename', 'type', 'number', 'is_correct', 'model')\n",
    "        writer = csv.DictWriter(f, fieldnames=fields, lineterminator = '\\n')\n",
    "        writer.writeheader()\n",
    "        for res in results:\n",
    "            writer.writerow(res[0])\n",
    "            writer.writerow(res[1])"
   ],
   "metadata": {
    "collapsed": false
   }
  },
  {
   "cell_type": "code",
   "execution_count": 91,
   "outputs": [
    {
     "name": "stderr",
     "output_type": "stream",
     "text": [
      "\n",
      "image 1/1 C:\\Users\\\\PycharmProjects\\Wagon_number_OCR\\test_images\\28005312.jpg: 480x800 1 number, 85.0ms\n",
      "Speed: 3.0ms preprocess, 85.0ms inference, 2.0ms postprocess per image at shape (1, 3, 480, 800)\n",
      "Results saved to \u001B[1myolo_detections\\results13\u001B[0m\n",
      "WARNING  'Boxes.boxes' is deprecated. Use 'Boxes.data' instead.\n"
     ]
    },
    {
     "data": {
      "text/plain": "Output()",
      "application/vnd.jupyter.widget-view+json": {
       "version_major": 2,
       "version_minor": 0,
       "model_id": "c60a1e5ea38647adb84a10771b45a784"
      }
     },
     "metadata": {},
     "output_type": "display_data"
    },
    {
     "data": {
      "text/plain": "\n",
      "text/html": "<pre style=\"white-space:pre;overflow-x:auto;line-height:normal;font-family:Menlo,'DejaVu Sans Mono',consolas,'Courier New',monospace\">\n</pre>\n"
     },
     "metadata": {},
     "output_type": "display_data"
    },
    {
     "data": {
      "text/plain": "",
      "text/html": "<pre style=\"white-space:pre;overflow-x:auto;line-height:normal;font-family:Menlo,'DejaVu Sans Mono',consolas,'Courier New',monospace\"></pre>\n"
     },
     "metadata": {},
     "output_type": "display_data"
    },
    {
     "data": {
      "text/plain": "\n",
      "text/html": "<pre style=\"white-space:pre;overflow-x:auto;line-height:normal;font-family:Menlo,'DejaVu Sans Mono',consolas,'Courier New',monospace\">\n</pre>\n"
     },
     "metadata": {},
     "output_type": "display_data"
    },
    {
     "name": "stderr",
     "output_type": "stream",
     "text": [
      "\n",
      "image 1/1 C:\\Users\\\\PycharmProjects\\Wagon_number_OCR\\test_images\\28008332.jpg: 480x800 1 number, 85.0ms\n",
      "Speed: 3.0ms preprocess, 85.0ms inference, 3.0ms postprocess per image at shape (1, 3, 480, 800)\n",
      "Results saved to \u001B[1myolo_detections\\results14\u001B[0m\n",
      "WARNING  'Boxes.boxes' is deprecated. Use 'Boxes.data' instead.\n"
     ]
    },
    {
     "data": {
      "text/plain": "Output()",
      "application/vnd.jupyter.widget-view+json": {
       "version_major": 2,
       "version_minor": 0,
       "model_id": "a7a25857fc9c4e49874e52168c345a8f"
      }
     },
     "metadata": {},
     "output_type": "display_data"
    },
    {
     "name": "stdout",
     "output_type": "stream",
     "text": [
      "append\n"
     ]
    },
    {
     "data": {
      "text/plain": "\n",
      "text/html": "<pre style=\"white-space:pre;overflow-x:auto;line-height:normal;font-family:Menlo,'DejaVu Sans Mono',consolas,'Courier New',monospace\">\n</pre>\n"
     },
     "metadata": {},
     "output_type": "display_data"
    },
    {
     "data": {
      "text/plain": "",
      "text/html": "<pre style=\"white-space:pre;overflow-x:auto;line-height:normal;font-family:Menlo,'DejaVu Sans Mono',consolas,'Courier New',monospace\"></pre>\n"
     },
     "metadata": {},
     "output_type": "display_data"
    },
    {
     "data": {
      "text/plain": "\n",
      "text/html": "<pre style=\"white-space:pre;overflow-x:auto;line-height:normal;font-family:Menlo,'DejaVu Sans Mono',consolas,'Courier New',monospace\">\n</pre>\n"
     },
     "metadata": {},
     "output_type": "display_data"
    },
    {
     "name": "stderr",
     "output_type": "stream",
     "text": [
      "\n",
      "image 1/1 C:\\Users\\\\PycharmProjects\\Wagon_number_OCR\\test_images\\28025021.jpg: 480x800 1 number, 88.0ms\n",
      "Speed: 4.0ms preprocess, 88.0ms inference, 2.0ms postprocess per image at shape (1, 3, 480, 800)\n",
      "Results saved to \u001B[1myolo_detections\\results15\u001B[0m\n",
      "WARNING  'Boxes.boxes' is deprecated. Use 'Boxes.data' instead.\n"
     ]
    },
    {
     "data": {
      "text/plain": "Output()",
      "application/vnd.jupyter.widget-view+json": {
       "version_major": 2,
       "version_minor": 0,
       "model_id": "5b57c4a4a5fe41b9a056a517ddd27d80"
      }
     },
     "metadata": {},
     "output_type": "display_data"
    },
    {
     "name": "stdout",
     "output_type": "stream",
     "text": [
      "append\n"
     ]
    },
    {
     "data": {
      "text/plain": "\n",
      "text/html": "<pre style=\"white-space:pre;overflow-x:auto;line-height:normal;font-family:Menlo,'DejaVu Sans Mono',consolas,'Courier New',monospace\">\n</pre>\n"
     },
     "metadata": {},
     "output_type": "display_data"
    },
    {
     "data": {
      "text/plain": "",
      "text/html": "<pre style=\"white-space:pre;overflow-x:auto;line-height:normal;font-family:Menlo,'DejaVu Sans Mono',consolas,'Courier New',monospace\"></pre>\n"
     },
     "metadata": {},
     "output_type": "display_data"
    },
    {
     "data": {
      "text/plain": "\n",
      "text/html": "<pre style=\"white-space:pre;overflow-x:auto;line-height:normal;font-family:Menlo,'DejaVu Sans Mono',consolas,'Courier New',monospace\">\n</pre>\n"
     },
     "metadata": {},
     "output_type": "display_data"
    },
    {
     "name": "stderr",
     "output_type": "stream",
     "text": [
      "\n",
      "image 1/1 C:\\Users\\\\PycharmProjects\\Wagon_number_OCR\\test_images\\29025210.jpg: 480x800 (no detections), 88.0ms\n",
      "Speed: 6.0ms preprocess, 88.0ms inference, 2.0ms postprocess per image at shape (1, 3, 480, 800)\n",
      "Results saved to \u001B[1myolo_detections\\results16\u001B[0m\n",
      "WARNING  'Boxes.boxes' is deprecated. Use 'Boxes.data' instead.\n",
      "\n"
     ]
    },
    {
     "name": "stdout",
     "output_type": "stream",
     "text": [
      "append\n",
      "append\n"
     ]
    },
    {
     "name": "stderr",
     "output_type": "stream",
     "text": [
      "image 1/1 C:\\Users\\\\PycharmProjects\\Wagon_number_OCR\\test_images\\29029972.jpg: 480x800 1 number, 86.0ms\n",
      "Speed: 5.0ms preprocess, 86.0ms inference, 3.0ms postprocess per image at shape (1, 3, 480, 800)\n",
      "Results saved to \u001B[1myolo_detections\\results17\u001B[0m\n",
      "WARNING  'Boxes.boxes' is deprecated. Use 'Boxes.data' instead.\n"
     ]
    },
    {
     "data": {
      "text/plain": "Output()",
      "application/vnd.jupyter.widget-view+json": {
       "version_major": 2,
       "version_minor": 0,
       "model_id": "2c6319c0dffb42c699c3ecc8890df950"
      }
     },
     "metadata": {},
     "output_type": "display_data"
    },
    {
     "data": {
      "text/plain": "\n",
      "text/html": "<pre style=\"white-space:pre;overflow-x:auto;line-height:normal;font-family:Menlo,'DejaVu Sans Mono',consolas,'Courier New',monospace\">\n</pre>\n"
     },
     "metadata": {},
     "output_type": "display_data"
    },
    {
     "data": {
      "text/plain": "",
      "text/html": "<pre style=\"white-space:pre;overflow-x:auto;line-height:normal;font-family:Menlo,'DejaVu Sans Mono',consolas,'Courier New',monospace\"></pre>\n"
     },
     "metadata": {},
     "output_type": "display_data"
    },
    {
     "data": {
      "text/plain": "\n",
      "text/html": "<pre style=\"white-space:pre;overflow-x:auto;line-height:normal;font-family:Menlo,'DejaVu Sans Mono',consolas,'Courier New',monospace\">\n</pre>\n"
     },
     "metadata": {},
     "output_type": "display_data"
    },
    {
     "name": "stderr",
     "output_type": "stream",
     "text": [
      "\n",
      "image 1/1 C:\\Users\\\\PycharmProjects\\Wagon_number_OCR\\test_images\\29051091.jpg: 480x800 (no detections), 85.0ms\n",
      "Speed: 4.0ms preprocess, 85.0ms inference, 1.0ms postprocess per image at shape (1, 3, 480, 800)\n",
      "Results saved to \u001B[1myolo_detections\\results18\u001B[0m\n",
      "WARNING  'Boxes.boxes' is deprecated. Use 'Boxes.data' instead.\n",
      "\n"
     ]
    },
    {
     "name": "stdout",
     "output_type": "stream",
     "text": [
      "append\n",
      "append\n"
     ]
    },
    {
     "name": "stderr",
     "output_type": "stream",
     "text": [
      "image 1/1 C:\\Users\\\\PycharmProjects\\Wagon_number_OCR\\test_images\\42026633.jpg: 800x736 1 number, 123.0ms\n",
      "Speed: 6.0ms preprocess, 123.0ms inference, 2.0ms postprocess per image at shape (1, 3, 800, 736)\n",
      "Results saved to \u001B[1myolo_detections\\results19\u001B[0m\n",
      "WARNING  'Boxes.boxes' is deprecated. Use 'Boxes.data' instead.\n"
     ]
    },
    {
     "data": {
      "text/plain": "Output()",
      "application/vnd.jupyter.widget-view+json": {
       "version_major": 2,
       "version_minor": 0,
       "model_id": "d22ca5b1e48a4d9dbee48883127b2e0e"
      }
     },
     "metadata": {},
     "output_type": "display_data"
    },
    {
     "data": {
      "text/plain": "\n",
      "text/html": "<pre style=\"white-space:pre;overflow-x:auto;line-height:normal;font-family:Menlo,'DejaVu Sans Mono',consolas,'Courier New',monospace\">\n</pre>\n"
     },
     "metadata": {},
     "output_type": "display_data"
    },
    {
     "data": {
      "text/plain": "",
      "text/html": "<pre style=\"white-space:pre;overflow-x:auto;line-height:normal;font-family:Menlo,'DejaVu Sans Mono',consolas,'Courier New',monospace\"></pre>\n"
     },
     "metadata": {},
     "output_type": "display_data"
    },
    {
     "data": {
      "text/plain": "\n",
      "text/html": "<pre style=\"white-space:pre;overflow-x:auto;line-height:normal;font-family:Menlo,'DejaVu Sans Mono',consolas,'Courier New',monospace\">\n</pre>\n"
     },
     "metadata": {},
     "output_type": "display_data"
    },
    {
     "name": "stderr",
     "output_type": "stream",
     "text": [
      "\n",
      "image 1/1 C:\\Users\\\\PycharmProjects\\Wagon_number_OCR\\test_images\\42026781.jpg: 480x800 1 number, 87.0ms\n",
      "Speed: 3.0ms preprocess, 87.0ms inference, 1.0ms postprocess per image at shape (1, 3, 480, 800)\n",
      "Results saved to \u001B[1myolo_detections\\results20\u001B[0m\n",
      "WARNING  'Boxes.boxes' is deprecated. Use 'Boxes.data' instead.\n"
     ]
    },
    {
     "data": {
      "text/plain": "Output()",
      "application/vnd.jupyter.widget-view+json": {
       "version_major": 2,
       "version_minor": 0,
       "model_id": "f131b9c08a24401da77aeb3806687c58"
      }
     },
     "metadata": {},
     "output_type": "display_data"
    },
    {
     "name": "stdout",
     "output_type": "stream",
     "text": [
      "append\n"
     ]
    },
    {
     "data": {
      "text/plain": "\n",
      "text/html": "<pre style=\"white-space:pre;overflow-x:auto;line-height:normal;font-family:Menlo,'DejaVu Sans Mono',consolas,'Courier New',monospace\">\n</pre>\n"
     },
     "metadata": {},
     "output_type": "display_data"
    },
    {
     "data": {
      "text/plain": "",
      "text/html": "<pre style=\"white-space:pre;overflow-x:auto;line-height:normal;font-family:Menlo,'DejaVu Sans Mono',consolas,'Courier New',monospace\"></pre>\n"
     },
     "metadata": {},
     "output_type": "display_data"
    },
    {
     "data": {
      "text/plain": "\n",
      "text/html": "<pre style=\"white-space:pre;overflow-x:auto;line-height:normal;font-family:Menlo,'DejaVu Sans Mono',consolas,'Courier New',monospace\">\n</pre>\n"
     },
     "metadata": {},
     "output_type": "display_data"
    },
    {
     "name": "stderr",
     "output_type": "stream",
     "text": [
      "\n",
      "image 1/1 C:\\Users\\\\PycharmProjects\\Wagon_number_OCR\\test_images\\42026872.jpg: 800x736 1 number, 122.0ms\n",
      "Speed: 5.0ms preprocess, 122.0ms inference, 2.0ms postprocess per image at shape (1, 3, 800, 736)\n",
      "Results saved to \u001B[1myolo_detections\\results21\u001B[0m\n",
      "WARNING  'Boxes.boxes' is deprecated. Use 'Boxes.data' instead.\n"
     ]
    },
    {
     "data": {
      "text/plain": "Output()",
      "application/vnd.jupyter.widget-view+json": {
       "version_major": 2,
       "version_minor": 0,
       "model_id": "69eceee5ccac439a8cc7eccccdee6bc9"
      }
     },
     "metadata": {},
     "output_type": "display_data"
    },
    {
     "name": "stdout",
     "output_type": "stream",
     "text": [
      "append\n"
     ]
    },
    {
     "data": {
      "text/plain": "\n",
      "text/html": "<pre style=\"white-space:pre;overflow-x:auto;line-height:normal;font-family:Menlo,'DejaVu Sans Mono',consolas,'Courier New',monospace\">\n</pre>\n"
     },
     "metadata": {},
     "output_type": "display_data"
    },
    {
     "data": {
      "text/plain": "",
      "text/html": "<pre style=\"white-space:pre;overflow-x:auto;line-height:normal;font-family:Menlo,'DejaVu Sans Mono',consolas,'Courier New',monospace\"></pre>\n"
     },
     "metadata": {},
     "output_type": "display_data"
    },
    {
     "data": {
      "text/plain": "\n",
      "text/html": "<pre style=\"white-space:pre;overflow-x:auto;line-height:normal;font-family:Menlo,'DejaVu Sans Mono',consolas,'Courier New',monospace\">\n</pre>\n"
     },
     "metadata": {},
     "output_type": "display_data"
    },
    {
     "name": "stdout",
     "output_type": "stream",
     "text": [
      "append\n",
      "        filename  type     number  is_correct                    model\n",
      "0   28005312.jpg     1   28005312           1        Recognition_model\n",
      "1   28005312.jpg     1  280015312           0  Angle_recognition_model\n",
      "2   28008332.jpg     1   28008332           1        Recognition_model\n",
      "3   28008332.jpg     1   28006332           0  Angle_recognition_model\n",
      "4   28025021.jpg     1   28025021           1        Recognition_model\n",
      "5   28025021.jpg     1   28025021           1  Angle_recognition_model\n",
      "6   29029972.jpg     1   29029972           1        Recognition_model\n",
      "7   29029972.jpg     1   29029972           1  Angle_recognition_model\n",
      "8   42026633.jpg     1   42026633           1        Recognition_model\n",
      "9   42026633.jpg     1   42026633           1  Angle_recognition_model\n",
      "10  42026781.jpg     1   42028781           0        Recognition_model\n",
      "11  42026781.jpg     1   42026701           0  Angle_recognition_model\n",
      "12  42026872.jpg     1   42026872           1        Recognition_model\n",
      "13  42026872.jpg     1   42026872           1  Angle_recognition_model\n"
     ]
    }
   ],
   "source": [
    "DATA_PATH = './test_images/'\n",
    "\n",
    "images = []\n",
    "\n",
    "for (dirpath, dirnames, filenames) in walk(DATA_PATH):\n",
    "    images.extend(filenames)\n",
    "\n",
    "results = []\n",
    "\n",
    "for img in images:\n",
    "    res = model.predict(DATA_PATH + img)\n",
    "    print('append')\n",
    "    if res:\n",
    "        results.append(res)\n",
    "\n",
    "to_csv(results)\n",
    "\n",
    "file = pd.read_csv(MODEL_RESULT_PATH)\n",
    "print(file)"
   ],
   "metadata": {
    "collapsed": false
   }
  },
  {
   "cell_type": "code",
   "execution_count": null,
   "outputs": [],
   "source": [],
   "metadata": {
    "collapsed": false
   }
  }
 ],
 "metadata": {
  "kernelspec": {
   "display_name": "Python 3",
   "language": "python",
   "name": "python3"
  },
  "language_info": {
   "codemirror_mode": {
    "name": "ipython",
    "version": 2
   },
   "file_extension": ".py",
   "mimetype": "text/x-python",
   "name": "python",
   "nbconvert_exporter": "python",
   "pygments_lexer": "ipython2",
   "version": "2.7.6"
  }
 },
 "nbformat": 4,
 "nbformat_minor": 0
}
