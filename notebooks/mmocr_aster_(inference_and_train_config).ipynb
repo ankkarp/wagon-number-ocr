{
  "nbformat": 4,
  "nbformat_minor": 0,
  "metadata": {
    "colab": {
      "provenance": []
    },
    "kernelspec": {
      "name": "python3",
      "display_name": "Python 3"
    },
    "language_info": {
      "name": "python"
    },
    "widgets": {
      "application/vnd.jupyter.widget-state+json": {
        "fe93baf802354eb48b601abc6bc5c73b": {
          "model_module": "@jupyter-widgets/output",
          "model_name": "OutputModel",
          "model_module_version": "1.0.0",
          "state": {
            "_dom_classes": [],
            "_model_module": "@jupyter-widgets/output",
            "_model_module_version": "1.0.0",
            "_model_name": "OutputModel",
            "_view_count": null,
            "_view_module": "@jupyter-widgets/output",
            "_view_module_version": "1.0.0",
            "_view_name": "OutputView",
            "layout": "IPY_MODEL_8dfd2f5b3c8f4627980871cb7d35f62c",
            "msg_id": "",
            "outputs": [
              {
                "output_type": "display_data",
                "data": {
                  "text/plain": "Inference \u001b[38;2;153;48;86m━\u001b[0m\u001b[38;2;183;44;94m━\u001b[0m\u001b[38;2;209;42;102m━\u001b[0m\u001b[38;2;230;39;108m━\u001b[0m\u001b[38;2;244;38;112m━\u001b[0m\u001b[38;2;249;38;114m━\u001b[0m\u001b[38;2;244;38;112m━\u001b[0m\u001b[38;2;230;39;108m━\u001b[0m\u001b[38;2;209;42;102m━\u001b[0m\u001b[38;2;183;44;94m━\u001b[0m\u001b[38;2;153;48;86m━\u001b[0m\u001b[38;2;123;51;77m━\u001b[0m\u001b[38;2;97;53;69m━\u001b[0m\u001b[38;2;76;56;63m━\u001b[0m\u001b[38;2;62;57;59m━\u001b[0m\u001b[38;2;58;58;58m━\u001b[0m\u001b[38;2;62;57;59m━\u001b[0m\u001b[38;2;76;56;63m━\u001b[0m\u001b[38;2;97;53;69m━\u001b[0m\u001b[38;2;123;51;77m━\u001b[0m\u001b[38;2;153;48;86m━\u001b[0m\u001b[38;2;183;44;94m━\u001b[0m\u001b[38;2;209;42;102m━\u001b[0m\u001b[38;2;230;39;108m━\u001b[0m\u001b[38;2;244;38;112m━\u001b[0m\u001b[38;2;249;38;114m━\u001b[0m\u001b[38;2;244;38;112m━\u001b[0m\u001b[38;2;230;39;108m━\u001b[0m\u001b[38;2;209;42;102m━\u001b[0m\u001b[38;2;183;44;94m━\u001b[0m\u001b[38;2;153;48;86m━\u001b[0m\u001b[38;2;123;51;77m━\u001b[0m\u001b[38;2;97;53;69m━\u001b[0m\u001b[38;2;76;56;63m━\u001b[0m\u001b[38;2;62;57;59m━\u001b[0m\u001b[38;2;58;58;58m━\u001b[0m\u001b[38;2;62;57;59m━\u001b[0m\u001b[38;2;76;56;63m━\u001b[0m\u001b[38;2;97;53;69m━\u001b[0m\u001b[38;2;123;51;77m━\u001b[0m  \u001b[36m \u001b[0m\n",
                  "text/html": "<pre style=\"white-space:pre;overflow-x:auto;line-height:normal;font-family:Menlo,'DejaVu Sans Mono',consolas,'Courier New',monospace\">Inference <span style=\"color: #993056; text-decoration-color: #993056\">━</span><span style=\"color: #b72c5e; text-decoration-color: #b72c5e\">━</span><span style=\"color: #d12a66; text-decoration-color: #d12a66\">━</span><span style=\"color: #e6276c; text-decoration-color: #e6276c\">━</span><span style=\"color: #f42670; text-decoration-color: #f42670\">━</span><span style=\"color: #f92672; text-decoration-color: #f92672\">━</span><span style=\"color: #f42670; text-decoration-color: #f42670\">━</span><span style=\"color: #e6276c; text-decoration-color: #e6276c\">━</span><span style=\"color: #d12a66; text-decoration-color: #d12a66\">━</span><span style=\"color: #b72c5e; text-decoration-color: #b72c5e\">━</span><span style=\"color: #993056; text-decoration-color: #993056\">━</span><span style=\"color: #7b334d; text-decoration-color: #7b334d\">━</span><span style=\"color: #613545; text-decoration-color: #613545\">━</span><span style=\"color: #4c383f; text-decoration-color: #4c383f\">━</span><span style=\"color: #3e393b; text-decoration-color: #3e393b\">━</span><span style=\"color: #3a3a3a; text-decoration-color: #3a3a3a\">━</span><span style=\"color: #3e393b; text-decoration-color: #3e393b\">━</span><span style=\"color: #4c383f; text-decoration-color: #4c383f\">━</span><span style=\"color: #613545; text-decoration-color: #613545\">━</span><span style=\"color: #7b334d; text-decoration-color: #7b334d\">━</span><span style=\"color: #993056; text-decoration-color: #993056\">━</span><span style=\"color: #b72c5e; text-decoration-color: #b72c5e\">━</span><span style=\"color: #d12a66; text-decoration-color: #d12a66\">━</span><span style=\"color: #e6276c; text-decoration-color: #e6276c\">━</span><span style=\"color: #f42670; text-decoration-color: #f42670\">━</span><span style=\"color: #f92672; text-decoration-color: #f92672\">━</span><span style=\"color: #f42670; text-decoration-color: #f42670\">━</span><span style=\"color: #e6276c; text-decoration-color: #e6276c\">━</span><span style=\"color: #d12a66; text-decoration-color: #d12a66\">━</span><span style=\"color: #b72c5e; text-decoration-color: #b72c5e\">━</span><span style=\"color: #993056; text-decoration-color: #993056\">━</span><span style=\"color: #7b334d; text-decoration-color: #7b334d\">━</span><span style=\"color: #613545; text-decoration-color: #613545\">━</span><span style=\"color: #4c383f; text-decoration-color: #4c383f\">━</span><span style=\"color: #3e393b; text-decoration-color: #3e393b\">━</span><span style=\"color: #3a3a3a; text-decoration-color: #3a3a3a\">━</span><span style=\"color: #3e393b; text-decoration-color: #3e393b\">━</span><span style=\"color: #4c383f; text-decoration-color: #4c383f\">━</span><span style=\"color: #613545; text-decoration-color: #613545\">━</span><span style=\"color: #7b334d; text-decoration-color: #7b334d\">━</span>  <span style=\"color: #008080; text-decoration-color: #008080\"> </span>\n</pre>\n"
                },
                "metadata": {}
              }
            ]
          }
        },
        "8dfd2f5b3c8f4627980871cb7d35f62c": {
          "model_module": "@jupyter-widgets/base",
          "model_name": "LayoutModel",
          "model_module_version": "1.2.0",
          "state": {
            "_model_module": "@jupyter-widgets/base",
            "_model_module_version": "1.2.0",
            "_model_name": "LayoutModel",
            "_view_count": null,
            "_view_module": "@jupyter-widgets/base",
            "_view_module_version": "1.2.0",
            "_view_name": "LayoutView",
            "align_content": null,
            "align_items": null,
            "align_self": null,
            "border": null,
            "bottom": null,
            "display": null,
            "flex": null,
            "flex_flow": null,
            "grid_area": null,
            "grid_auto_columns": null,
            "grid_auto_flow": null,
            "grid_auto_rows": null,
            "grid_column": null,
            "grid_gap": null,
            "grid_row": null,
            "grid_template_areas": null,
            "grid_template_columns": null,
            "grid_template_rows": null,
            "height": null,
            "justify_content": null,
            "justify_items": null,
            "left": null,
            "margin": null,
            "max_height": null,
            "max_width": null,
            "min_height": null,
            "min_width": null,
            "object_fit": null,
            "object_position": null,
            "order": null,
            "overflow": null,
            "overflow_x": null,
            "overflow_y": null,
            "padding": null,
            "right": null,
            "top": null,
            "visibility": null,
            "width": null
          }
        }
      }
    }
  },
  "cells": [
    {
      "cell_type": "markdown",
      "source": [
        "## packages"
      ],
      "metadata": {
        "id": "w9w_U94xLY5T"
      }
    },
    {
      "cell_type": "code",
      "execution_count": null,
      "metadata": {
        "id": "anzMH4G4KS3F"
      },
      "outputs": [],
      "source": [
        "!pip install -q -U openmim\n",
        "!mim install -q mmengine\n",
        "!mim install -q mmcv\n",
        "!mim install -q mmdet\n",
        "!mim install -q mmocr\n",
        "!pip install -q albumentations>=1.1.0 --no-binary qudida,albumentations (optional)"
      ]
    },
    {
      "cell_type": "code",
      "source": [
        "!mkdir train"
      ],
      "metadata": {
        "id": "dqsz5isWbLLt"
      },
      "execution_count": null,
      "outputs": []
    },
    {
      "cell_type": "code",
      "source": [
        "!mkdir val"
      ],
      "metadata": {
        "id": "0lABiGWubSjY"
      },
      "execution_count": null,
      "outputs": []
    },
    {
      "cell_type": "code",
      "source": [
        "import matplotlib.pyplot as plt\n",
        "import matplotlib.image as mpimg"
      ],
      "metadata": {
        "id": "qXJddVI1icG9"
      },
      "execution_count": null,
      "outputs": []
    },
    {
      "cell_type": "code",
      "source": [
        "from mmocr.apis import MMOCRInferencer"
      ],
      "metadata": {
        "id": "Hir_Ea3EIgcd"
      },
      "execution_count": null,
      "outputs": []
    },
    {
      "cell_type": "code",
      "source": [
        "import os\n",
        "import json"
      ],
      "metadata": {
        "id": "axfGoUxxIkYt"
      },
      "execution_count": null,
      "outputs": []
    },
    {
      "cell_type": "markdown",
      "source": [
        "## data"
      ],
      "metadata": {
        "id": "1q7Sv_LscC6G"
      }
    },
    {
      "cell_type": "code",
      "source": [
        "!ls -1 train | wc -l"
      ],
      "metadata": {
        "colab": {
          "base_uri": "https://localhost:8080/"
        },
        "id": "QvCyDsMBbgBy",
        "outputId": "954bdd45-06a1-4047-b435-b8ff6df4905f"
      },
      "execution_count": null,
      "outputs": [
        {
          "output_type": "stream",
          "name": "stdout",
          "text": [
            "771\n"
          ]
        }
      ]
    },
    {
      "cell_type": "code",
      "source": [
        "!ls -1 val | wc -l"
      ],
      "metadata": {
        "colab": {
          "base_uri": "https://localhost:8080/"
        },
        "id": "J2YWziofcFq5",
        "outputId": "be724051-b818-4868-cc4e-d84d3b9f8014"
      },
      "execution_count": null,
      "outputs": [
        {
          "output_type": "stream",
          "name": "stdout",
          "text": [
            "93\n"
          ]
        }
      ]
    },
    {
      "cell_type": "code",
      "source": [
        "imgs = !ls -1 val | head -n 1"
      ],
      "metadata": {
        "id": "eqA58sfB9vvR"
      },
      "execution_count": null,
      "outputs": []
    },
    {
      "cell_type": "code",
      "source": [
        "imgs"
      ],
      "metadata": {
        "colab": {
          "base_uri": "https://localhost:8080/"
        },
        "id": "VYwWu0HzdX6N",
        "outputId": "f246bfd0-2594-4288-e43b-4b2bbf47e3a0"
      },
      "execution_count": null,
      "outputs": [
        {
          "output_type": "execute_result",
          "data": {
            "text/plain": [
              "['____0659.jpg']"
            ]
          },
          "metadata": {},
          "execution_count": 30
        }
      ]
    },
    {
      "cell_type": "code",
      "source": [
        "img = 'val/' + imgs[0]"
      ],
      "metadata": {
        "id": "7hYWazQwc70R"
      },
      "execution_count": null,
      "outputs": []
    },
    {
      "cell_type": "code",
      "source": [
        "img"
      ],
      "metadata": {
        "colab": {
          "base_uri": "https://localhost:8080/",
          "height": 35
        },
        "id": "Yqx7nqGudRle",
        "outputId": "0ab49cdf-b81b-4d97-f386-c8582ee9ea7a"
      },
      "execution_count": null,
      "outputs": [
        {
          "output_type": "execute_result",
          "data": {
            "text/plain": [
              "'val/____0659.jpg'"
            ],
            "application/vnd.google.colaboratory.intrinsic+json": {
              "type": "string"
            }
          },
          "metadata": {},
          "execution_count": 60
        }
      ]
    },
    {
      "cell_type": "code",
      "source": [
        "plt.imshow(mpimg.imread(img))"
      ],
      "metadata": {
        "colab": {
          "base_uri": "https://localhost:8080/",
          "height": 447
        },
        "id": "3ybJ5epji975",
        "outputId": "9acbc737-858a-46b4-9c96-7ecdfda15144"
      },
      "execution_count": null,
      "outputs": [
        {
          "output_type": "execute_result",
          "data": {
            "text/plain": [
              "<matplotlib.image.AxesImage at 0x7a7aa4ed7e80>"
            ]
          },
          "metadata": {},
          "execution_count": 64
        },
        {
          "output_type": "display_data",
          "data": {
            "text/plain": [
              "<Figure size 640x480 with 1 Axes>"
            ],
            "image/png": "[encoded data removed]"
          },
          "metadata": {}
        }
      ]
    },
    {
      "cell_type": "markdown",
      "source": [
        "## inference"
      ],
      "metadata": {
        "id": "GDVMrY9Haroy"
      }
    },
    {
      "cell_type": "code",
      "source": [
        "ocr = MMOCRInferencer(det='DBNet', rec='CRNN')"
      ],
      "metadata": {
        "colab": {
          "base_uri": "https://localhost:8080/"
        },
        "id": "yNL7d_yd_uvS",
        "outputId": "6a3e45e1-23cc-439e-966d-2f08c1fa0c7a"
      },
      "execution_count": null,
      "outputs": [
        {
          "output_type": "stream",
          "name": "stdout",
          "text": [
            "Loads checkpoint by http backend from path: https://download.openmmlab.com/mmocr/textdet/dbnet/dbnet_resnet50-oclip_1200e_icdar2015/dbnet_resnet50-oclip_1200e_icdar2015_20221102_115917-bde8c87a.pth\n",
            "Loads checkpoint by http backend from path: https://download.openmmlab.com/mmocr/textrecog/crnn/crnn_mini-vgg_5e_mj/crnn_mini-vgg_5e_mj_20220826_224120-8afbedbb.pth\n",
            "The model and loaded state dict do not match exactly\n",
            "\n",
            "unexpected key in source state_dict: data_preprocessor.mean, data_preprocessor.std\n",
            "\n"
          ]
        }
      ]
    },
    {
      "cell_type": "code",
      "source": [
        "ocr = MMOCRInferencer(rec='CRNN')"
      ],
      "metadata": {
        "colab": {
          "base_uri": "https://localhost:8080/"
        },
        "id": "oHItsZ3Hm3CG",
        "outputId": "ea738232-1291-4c0a-e788-57b80ac6339b"
      },
      "execution_count": null,
      "outputs": [
        {
          "output_type": "stream",
          "name": "stdout",
          "text": [
            "Loads checkpoint by http backend from path: https://download.openmmlab.com/mmocr/textrecog/crnn/crnn_mini-vgg_5e_mj/crnn_mini-vgg_5e_mj_20220826_224120-8afbedbb.pth\n",
            "The model and loaded state dict do not match exactly\n",
            "\n",
            "unexpected key in source state_dict: data_preprocessor.mean, data_preprocessor.std\n",
            "\n"
          ]
        }
      ]
    },
    {
      "cell_type": "code",
      "source": [
        "# Perform inference\n",
        "result = ocr(img)"
      ],
      "metadata": {
        "colab": {
          "base_uri": "https://localhost:8080/",
          "height": 34,
          "referenced_widgets": [
            "fe93baf802354eb48b601abc6bc5c73b",
            "8dfd2f5b3c8f4627980871cb7d35f62c"
          ]
        },
        "id": "f8BfMwnMhHjF",
        "outputId": "83528acb-f109-4d3a-9298-13f868a0ec7e"
      },
      "execution_count": null,
      "outputs": [
        {
          "output_type": "display_data",
          "data": {
            "text/plain": [
              "Output()"
            ],
            "application/vnd.jupyter.widget-view+json": {
              "version_major": 2,
              "version_minor": 0,
              "model_id": "fe93baf802354eb48b601abc6bc5c73b"
            }
          },
          "metadata": {}
        },
        {
          "output_type": "display_data",
          "data": {
            "text/plain": [
              "\n"
            ],
            "text/html": [
              "<pre style=\"white-space:pre;overflow-x:auto;line-height:normal;font-family:Menlo,'DejaVu Sans Mono',consolas,'Courier New',monospace\">\n",
              "</pre>\n"
            ]
          },
          "metadata": {}
        },
        {
          "output_type": "display_data",
          "data": {
            "text/plain": [],
            "text/html": [
              "<pre style=\"white-space:pre;overflow-x:auto;line-height:normal;font-family:Menlo,'DejaVu Sans Mono',consolas,'Courier New',monospace\"></pre>\n"
            ]
          },
          "metadata": {}
        },
        {
          "output_type": "display_data",
          "data": {
            "text/plain": [
              "\n"
            ],
            "text/html": [
              "<pre style=\"white-space:pre;overflow-x:auto;line-height:normal;font-family:Menlo,'DejaVu Sans Mono',consolas,'Courier New',monospace\">\n",
              "</pre>\n"
            ]
          },
          "metadata": {}
        }
      ]
    },
    {
      "cell_type": "code",
      "source": [
        "result"
      ],
      "metadata": {
        "colab": {
          "base_uri": "https://localhost:8080/"
        },
        "id": "mxvzLL9Zjb-d",
        "outputId": "d96b8c0e-0706-4602-9751-f6767c93ee8b"
      },
      "execution_count": null,
      "outputs": [
        {
          "output_type": "execute_result",
          "data": {
            "text/plain": [
              "{'predictions': [{'rec_texts': ['es'], 'rec_scores': [0.5939849019050598]}],\n",
              " 'visualization': []}"
            ]
          },
          "metadata": {},
          "execution_count": 77
        }
      ]
    },
    {
      "cell_type": "code",
      "source": [
        "img"
      ],
      "metadata": {
        "id": "Zn4TxvdFiiwi"
      },
      "execution_count": null,
      "outputs": []
    },
    {
      "cell_type": "markdown",
      "source": [
        "## dataset"
      ],
      "metadata": {
        "id": "NlZwxVFIHVZk"
      }
    },
    {
      "cell_type": "code",
      "source": [
        "# Path to your image folder\n",
        "image_folder = '/content/train'\n",
        "\n",
        "# Output annotation file\n",
        "ann_file = '/content/labels_train.json'\n",
        "\n",
        "# Get a list of all images in the folder\n",
        "images = os.listdir(image_folder)\n",
        "\n",
        "# Initialize an empty list to hold the annotations\n",
        "annotations = []\n",
        "\n",
        "# Iterate over all images\n",
        "for image in images:\n",
        "    # Get the label from the image filename\n",
        "    label = os.path.splitext(image)[0]\n",
        "\n",
        "    # Create an annotation entry\n",
        "    entry = {\n",
        "        'file_name': image,\n",
        "        'text': label,\n",
        "    }\n",
        "\n",
        "    # Add the entry to the list of annotations\n",
        "    annotations.append(entry)\n",
        "\n",
        "# Write the annotations to a JSON file\n",
        "with open(ann_file, 'w') as f:\n",
        "    json.dump(annotations, f)\n"
      ],
      "metadata": {
        "id": "mZFxnz2ZHYI4"
      },
      "execution_count": null,
      "outputs": []
    },
    {
      "cell_type": "code",
      "source": [
        "# Path to your image folder\n",
        "image_folder = '/content/val'\n",
        "\n",
        "# Output annotation file\n",
        "ann_file = '/content/labels_val.json'\n",
        "\n",
        "# Get a list of all images in the folder\n",
        "images = os.listdir(image_folder)\n",
        "\n",
        "# Initialize an empty list to hold the annotations\n",
        "annotations = []\n",
        "\n",
        "# Iterate over all images\n",
        "for image in images:\n",
        "    # Get the label from the image filename\n",
        "    label = os.path.splitext(image)[0]\n",
        "\n",
        "    # Create an annotation entry\n",
        "    entry = {\n",
        "        'file_name': image,\n",
        "        'text': label,\n",
        "    }\n",
        "\n",
        "    # Add the entry to the list of annotations\n",
        "    annotations.append(entry)\n",
        "\n",
        "# Write the annotations to a JSON file\n",
        "with open(ann_file, 'w') as f:\n",
        "    json.dump(annotations, f)\n"
      ],
      "metadata": {
        "id": "EUJpMa6WH29D"
      },
      "execution_count": null,
      "outputs": []
    },
    {
      "cell_type": "markdown",
      "source": [
        "## config"
      ],
      "metadata": {
        "id": "I5GdbnUEz5mA"
      }
    },
    {
      "cell_type": "markdown",
      "source": [
        "custom dataset config"
      ],
      "metadata": {
        "id": "uJzYxjDKLchM"
      }
    },
    {
      "cell_type": "code",
      "source": [
        "dataset_train = dict(\n",
        "    type='OCRDataset',\n",
        "    data_root='/content/train',               # dataset root path\n",
        "    ann_file='labels_train.json',                       # name of annotation\n",
        "    filter_cfg=dict(filter_empty_gt=True, min_size=32),  # filtering empty images\n",
        "    pipeline=None)\n",
        "\n",
        "# Test set config\n",
        "dataset_val = dict(\n",
        "    type='OCRDataset',\n",
        "    data_root='/content/val',\n",
        "    ann_file='labels_val.json',\n",
        "    test_mode=True,\n",
        "    pipeline=None)"
      ],
      "metadata": {
        "id": "paTR-QWwLU3i"
      },
      "execution_count": null,
      "outputs": []
    },
    {
      "cell_type": "code",
      "source": [
        "!touch /content/dataset_config.py"
      ],
      "metadata": {
        "id": "muJJDjOaNDKn"
      },
      "execution_count": null,
      "outputs": []
    },
    {
      "cell_type": "code",
      "source": [
        "_base_ = [\n",
        "    '_base_aster.py',\n",
        "    '/content/dataset_config.py',  # import the dataset config\n",
        "    '../_base_/default_runtime.py',\n",
        "    '../_base_/schedules/schedule_adamw_cos_6e.py',\n",
        "]\n",
        "\n",
        "dataset_train"
      ],
      "metadata": {
        "id": "Si_UTVXsM2Wt"
      },
      "execution_count": null,
      "outputs": []
    },
    {
      "cell_type": "code",
      "source": [
        "_base_ = [\n",
        "    '_base_dbnet_r18_fpnc.py',\n",
        "    '../_base_/datasets/icdar2015.py',  # import the dataset config\n",
        "    '../_base_/default_runtime.py',\n",
        "    '../_base_/schedules/schedule_sgd_1200e.py',\n",
        "]\n",
        "\n",
        "icdar2015_textdet_train = _base_.icdar2015_textdet_train            # specify the training set\n",
        "icdar2015_textdet_train.pipeline = _base_.train_pipeline   # specify the training pipeline\n",
        "icdar2015_textdet_test = _base_.icdar2015_textdet_test              # specify the testing set\n",
        "icdar2015_textdet_test.pipeline = _base_.test_pipeline     # specify the testing pipeline\n",
        "\n",
        "train_dataloader = dict(\n",
        "    batch_size=16,\n",
        "    num_workers=8,\n",
        "    persistent_workers=True,\n",
        "    sampler=dict(type='DefaultSampler', shuffle=True),\n",
        "    dataset=icdar2015_textdet_train)    # specify the dataset in train_dataloader\n",
        "\n",
        "val_dataloader = dict(\n",
        "    batch_size=1,\n",
        "    num_workers=4,\n",
        "    persistent_workers=True,\n",
        "    sampler=dict(type='DefaultSampler', shuffle=False),\n",
        "    dataset=icdar2015_textdet_test)    # specify the dataset in val_dataloader\n",
        "\n",
        "test_dataloader = val_dataloader"
      ],
      "metadata": {
        "id": "zGE6MbbKLZKD"
      },
      "execution_count": null,
      "outputs": []
    },
    {
      "cell_type": "code",
      "source": [
        "_base_ = [\n",
        "    '/content/mmocr/configs/textrecog/aster/_base_aster.py',\n",
        "    '/content/mmocr/configs/textrecog/_base_/default_runtime.py',\n",
        "    '/content/mmocr/configs/textrecog/_base_/schedules/schedule_adamw_cos_6e.py',\n",
        "]\n",
        "\n",
        "dataset_train = dict(\n",
        "    type='OCRDataset',\n",
        "    data_root='/content/train',               # dataset root path\n",
        "    ann_file='labels_train.json',                       # name of annotation\n",
        "    filter_cfg=dict(filter_empty_gt=True, min_size=32),  # filtering empty images\n",
        "    pipeline=None)\n",
        "\n",
        "# Test set config\n",
        "dataset_val = dict(\n",
        "    type='OCRDataset',\n",
        "    data_root='/content/val',\n",
        "    ann_file='labels_val.json',\n",
        "    test_mode=True,\n",
        "    pipeline=None)\n",
        "\n",
        "train_dataloader = dict(\n",
        "    batch_size=16,\n",
        "    num_workers=8,\n",
        "    persistent_workers=True,\n",
        "    sampler=dict(type='DefaultSampler', shuffle=True),\n",
        "    dataset=dataset_train)    # specify the dataset in train_dataloader\n",
        "\n",
        "val_dataloader = dict(\n",
        "    batch_size=1,\n",
        "    num_workers=4,\n",
        "    persistent_workers=True,\n",
        "    sampler=dict(type='DefaultSampler', shuffle=False),\n",
        "    dataset=dataset_val)    # specify the dataset in val_dataloader\n",
        "\n",
        "test_dataloader = val_dataloader\n",
        "\n",
        "auto_scale_lr = dict(base_batch_size=1024)\n",
        "\n",
        "# val_evaluator = dict(\n",
        "#     dataset_prefixes=['CUTE80', 'IIIT5K', 'SVT', 'SVTP', 'IC13', 'IC15'])\n",
        "# test_evaluator = val_evaluator\n",
        "\n",
        "# default_hooks = dict(logger=dict(type='LoggerHook', interval=50))"
      ],
      "metadata": {
        "id": "qrK-l79IXcrY"
      },
      "execution_count": null,
      "outputs": []
    },
    {
      "cell_type": "markdown",
      "source": [
        "base"
      ],
      "metadata": {
        "id": "qSlXKwpVLZv_"
      }
    },
    {
      "cell_type": "code",
      "source": [
        "# training schedule for 1x\n",
        "_base_ = [\n",
        "    '_base_aster.py',\n",
        "    '../_base_/datasets/mjsynth.py',\n",
        "    '../_base_/datasets/synthtext.py',\n",
        "    '../_base_/datasets/cute80.py',\n",
        "    '../_base_/datasets/iiit5k.py',\n",
        "    '../_base_/datasets/svt.py',\n",
        "    '../_base_/datasets/svtp.py',\n",
        "    '../_base_/datasets/icdar2013.py',\n",
        "    '../_base_/datasets/icdar2015.py',\n",
        "    '../_base_/default_runtime.py',\n",
        "    '../_base_/schedules/schedule_adamw_cos_6e.py',\n",
        "]\n",
        "\n",
        "# dataset settings\n",
        "train_list = [\n",
        "    _base_.mjsynth_textrecog_train,\n",
        "    _base_.synthtext_textrecog_train,\n",
        "]\n",
        "test_list = [\n",
        "    _base_.cute80_textrecog_test, _base_.iiit5k_textrecog_test,\n",
        "    _base_.svt_textrecog_test, _base_.svtp_textrecog_test,\n",
        "    _base_.icdar2013_textrecog_test, _base_.icdar2015_textrecog_test\n",
        "]\n",
        "\n",
        "default_hooks = dict(logger=dict(type='LoggerHook', interval=50))\n",
        "\n",
        "train_dataset = dict(\n",
        "    type='ConcatDataset', datasets=train_list, pipeline=_base_.train_pipeline)\n",
        "test_dataset = dict(\n",
        "    type='ConcatDataset', datasets=test_list, pipeline=_base_.test_pipeline)\n",
        "\n",
        "\n",
        "train_dataloader = dict(\n",
        "    batch_size=1024,\n",
        "    num_workers=24,\n",
        "    persistent_workers=True,\n",
        "    pin_memory=True,\n",
        "    sampler=dict(type='DefaultSampler', shuffle=True),\n",
        "    dataset=train_dataset)\n",
        "\n",
        "auto_scale_lr = dict(base_batch_size=1024)\n",
        "\n",
        "test_dataloader = dict(\n",
        "    batch_size=1,\n",
        "    num_workers=4,\n",
        "    persistent_workers=True,\n",
        "    pin_memory=True,\n",
        "    drop_last=False,\n",
        "    sampler=dict(type='DefaultSampler', shuffle=False),\n",
        "    dataset=test_dataset)\n",
        "\n",
        "val_dataloader = test_dataloader\n",
        "\n",
        "val_evaluator = dict(\n",
        "    dataset_prefixes=['CUTE80', 'IIIT5K', 'SVT', 'SVTP', 'IC13', 'IC15'])\n",
        "test_evaluator = val_evaluator\n"
      ],
      "metadata": {
        "id": "uu_GuRvoz7uJ"
      },
      "execution_count": null,
      "outputs": []
    },
    {
      "cell_type": "markdown",
      "source": [
        "model"
      ],
      "metadata": {
        "id": "UC9lXdf16Y35"
      }
    },
    {
      "cell_type": "markdown",
      "source": [
        "## train"
      ],
      "metadata": {
        "id": "cP9M47oQat9W"
      }
    },
    {
      "cell_type": "markdown",
      "source": [
        "aster (меняет перспективу) vs модель с modelscope обучить на crops"
      ],
      "metadata": {
        "id": "XALp7zzMLZgx"
      }
    },
    {
      "cell_type": "code",
      "source": [
        "!git clone https://github.com/open-mmlab/mmocr.git"
      ],
      "metadata": {
        "colab": {
          "base_uri": "https://localhost:8080/"
        },
        "id": "IaH-WYWS4f4I",
        "outputId": "4fa91090-9eab-4350-c6e4-e6342915742a"
      },
      "execution_count": null,
      "outputs": [
        {
          "output_type": "stream",
          "name": "stdout",
          "text": [
            "Cloning into 'mmocr'...\n",
            "remote: Enumerating objects: 16384, done.\u001b[K\n",
            "remote: Counting objects: 100% (293/293), done.\u001b[K\n",
            "remote: Compressing objects: 100% (228/228), done.\u001b[K\n",
            "remote: Total 16384 (delta 102), reused 206 (delta 62), pack-reused 16091\u001b[K\n",
            "Receiving objects: 100% (16384/16384), 16.28 MiB | 14.57 MiB/s, done.\n",
            "Resolving deltas: 100% (10711/10711), done.\n"
          ]
        }
      ]
    },
    {
      "cell_type": "code",
      "source": [
        "%cd /content"
      ],
      "metadata": {
        "colab": {
          "base_uri": "https://localhost:8080/"
        },
        "id": "jyaaPwx77FtO",
        "outputId": "69e69557-6a72-4dfa-de39-36b589e157ef"
      },
      "execution_count": null,
      "outputs": [
        {
          "output_type": "stream",
          "name": "stdout",
          "text": [
            "/content\n"
          ]
        }
      ]
    },
    {
      "cell_type": "code",
      "source": [
        "!ls"
      ],
      "metadata": {
        "colab": {
          "base_uri": "https://localhost:8080/"
        },
        "id": "iyagqnTh7S5x",
        "outputId": "2b915a17-d269-4066-db25-4f8c88d1face"
      },
      "execution_count": null,
      "outputs": [
        {
          "output_type": "stream",
          "name": "stdout",
          "text": [
            "CITATION.cff  demo    LICENSE\t       my_config.py\trequirements\t  setup.py\n",
            "config.py     dicts   MANIFEST.in      projects\t\trequirements.txt  tests\n",
            "configs       docker  mmocr\t       README.md\tresources\t  tools\n",
            "dataset_zoo   docs    model-index.yml  README_zh-CN.md\tsetup.cfg\n"
          ]
        }
      ]
    },
    {
      "cell_type": "code",
      "source": [
        "%cd /content/mmocr/configs/textrecog/aster"
      ],
      "metadata": {
        "colab": {
          "base_uri": "https://localhost:8080/"
        },
        "id": "HvvoOUf769yS",
        "outputId": "24c1a47c-f9dc-4be3-f82c-5257b64f21ba"
      },
      "execution_count": null,
      "outputs": [
        {
          "output_type": "stream",
          "name": "stdout",
          "text": [
            "/content/mmocr/configs/textrecog/aster\n"
          ]
        }
      ]
    },
    {
      "cell_type": "code",
      "source": [
        "!ls"
      ],
      "metadata": {
        "colab": {
          "base_uri": "https://localhost:8080/"
        },
        "id": "kZL6MV1w9XdD",
        "outputId": "9ccd90ab-1622-4546-f918-e2c7d13316f4"
      },
      "execution_count": null,
      "outputs": [
        {
          "output_type": "stream",
          "name": "stdout",
          "text": [
            "aster_resnet45_6e_st_mj.py  _base_aster.py  metafile.yml  README.md\n"
          ]
        }
      ]
    },
    {
      "cell_type": "code",
      "source": [
        "# !touch my_config.py"
      ],
      "metadata": {
        "id": "pY0IZIE976jY"
      },
      "execution_count": null,
      "outputs": []
    },
    {
      "cell_type": "code",
      "source": [
        "!ls"
      ],
      "metadata": {
        "colab": {
          "base_uri": "https://localhost:8080/"
        },
        "id": "03ZXFeRQ4jd1",
        "outputId": "bb1b3234-5b12-4ea6-9e4f-674cca3deb59"
      },
      "execution_count": null,
      "outputs": [
        {
          "output_type": "stream",
          "name": "stdout",
          "text": [
            "aster_resnet45_6e_st_mj.py  _base_aster.py  metafile.yml  my_config.py\tREADME.md\n"
          ]
        }
      ]
    },
    {
      "cell_type": "code",
      "source": [
        "!python /content/mmocr/tools/train.py /content/config.py"
      ],
      "metadata": {
        "id": "G3SgvXNcljg5"
      },
      "execution_count": null,
      "outputs": []
    }
  ]
}