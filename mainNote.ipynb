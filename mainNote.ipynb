{
 "cells": [
  {
   "cell_type": "code",
   "execution_count": 57,
   "metadata": {
    "collapsed": true
   },
   "outputs": [],
   "source": [
    "import os\n",
    "os.environ[\"KMP_DUPLICATE_LIB_OK\"]=\"TRUE\""
   ]
  },
  {
   "cell_type": "code",
   "execution_count": 58,
   "outputs": [],
   "source": [
    "import easyocr\n",
    "import cv2\n",
    "import numpy as np\n",
    "from PIL import Image\n",
    "from ultralytics import YOLO\n",
    "import pytesseract\n",
    "from pytesseract import Output"
   ],
   "metadata": {
    "collapsed": false
   }
  },
  {
   "cell_type": "code",
   "execution_count": 3,
   "outputs": [],
   "source": [
    "reader = easyocr.Reader(['en'])"
   ],
   "metadata": {
    "collapsed": false
   }
  },
  {
   "cell_type": "code",
   "execution_count": 53,
   "outputs": [],
   "source": [
    "grey_im_path = 'data/grey_numer.png'\n",
    "color_im_path = 'data/color_number.jpg'\n",
    "bin_grey_im_path = 'data/bin_grey_number.png'\n",
    "bin_color_im_path = 'data/bin_color_number.png'\n",
    "\n",
    "grey_im = cv2.imread(grey_im_path)\n",
    "color_im = cv2.imread(color_im_path)"
   ],
   "metadata": {
    "collapsed": false
   }
  },
  {
   "cell_type": "code",
   "execution_count": 54,
   "outputs": [
    {
     "data": {
      "text/plain": "True"
     },
     "execution_count": 54,
     "metadata": {},
     "output_type": "execute_result"
    }
   ],
   "source": [
    "th_1, g_im_th = cv2.threshold(grey_im, 128, 255, cv2.THRESH_BINARY)\n",
    "th_2, c_im_th = cv2.threshold(color_im, 128, 255, cv2.THRESH_BINARY)\n",
    "\n",
    "cv2.imwrite(bin_grey_im_path, g_im_th)\n",
    "cv2.imwrite(bin_color_im_path, c_im_th)"
   ],
   "metadata": {
    "collapsed": false
   }
  },
  {
   "cell_type": "code",
   "execution_count": 55,
   "outputs": [],
   "source": [
    "grey_im_result = reader.readtext(grey_im_path, allowlist ='0123456789')\n",
    "color_im_result = reader.readtext(color_im_path, allowlist ='0123456789')\n",
    "\n",
    "bin_grey_im_result = reader.readtext(bin_grey_im_path, allowlist ='0123456789')\n",
    "bin_color_im_result = reader.readtext(bin_color_im_path, allowlist ='0123456789')"
   ],
   "metadata": {
    "collapsed": false
   }
  },
  {
   "cell_type": "code",
   "execution_count": 10,
   "outputs": [],
   "source": [
    "def print_boxes(ocr_data, frame):\n",
    "    for box in ocr_data:\n",
    "        x1 = box[0][0][0]\n",
    "        y1 = box[0][0][1]\n",
    "        x2 = box[0][2][0]\n",
    "        y2 = box[0][2][1]\n",
    "        label = box[1]\n",
    "        frame = cv2.rectangle(frame, (x1, y1), (x2, y2), (0,0,255))\n",
    "        frame = cv2.putText(frame, label, (x1, y1+15), cv2.FONT_HERSHEY_SIMPLEX, 0.6, (0,0,255), 2)\n",
    "\n",
    "    return frame"
   ],
   "metadata": {
    "collapsed": false
   }
  },
  {
   "cell_type": "code",
   "execution_count": 59,
   "outputs": [
    {
     "data": {
      "text/plain": "YOLO(\n  (model): DetectionModel(\n    (model): Sequential(\n      (0): Conv(\n        (conv): Conv2d(3, 80, kernel_size=(3, 3), stride=(2, 2), padding=(1, 1), bias=False)\n        (bn): BatchNorm2d(80, eps=0.001, momentum=0.03, affine=True, track_running_stats=True)\n        (act): SiLU(inplace=True)\n      )\n      (1): Conv(\n        (conv): Conv2d(80, 160, kernel_size=(3, 3), stride=(2, 2), padding=(1, 1), bias=False)\n        (bn): BatchNorm2d(160, eps=0.001, momentum=0.03, affine=True, track_running_stats=True)\n        (act): SiLU(inplace=True)\n      )\n      (2): C2f(\n        (cv1): Conv(\n          (conv): Conv2d(160, 160, kernel_size=(1, 1), stride=(1, 1), bias=False)\n          (bn): BatchNorm2d(160, eps=0.001, momentum=0.03, affine=True, track_running_stats=True)\n          (act): SiLU(inplace=True)\n        )\n        (cv2): Conv(\n          (conv): Conv2d(400, 160, kernel_size=(1, 1), stride=(1, 1), bias=False)\n          (bn): BatchNorm2d(160, eps=0.001, momentum=0.03, affine=True, track_running_stats=True)\n          (act): SiLU(inplace=True)\n        )\n        (m): ModuleList(\n          (0-2): 3 x Bottleneck(\n            (cv1): Conv(\n              (conv): Conv2d(80, 80, kernel_size=(3, 3), stride=(1, 1), padding=(1, 1), bias=False)\n              (bn): BatchNorm2d(80, eps=0.001, momentum=0.03, affine=True, track_running_stats=True)\n              (act): SiLU(inplace=True)\n            )\n            (cv2): Conv(\n              (conv): Conv2d(80, 80, kernel_size=(3, 3), stride=(1, 1), padding=(1, 1), bias=False)\n              (bn): BatchNorm2d(80, eps=0.001, momentum=0.03, affine=True, track_running_stats=True)\n              (act): SiLU(inplace=True)\n            )\n          )\n        )\n      )\n      (3): Conv(\n        (conv): Conv2d(160, 320, kernel_size=(3, 3), stride=(2, 2), padding=(1, 1), bias=False)\n        (bn): BatchNorm2d(320, eps=0.001, momentum=0.03, affine=True, track_running_stats=True)\n        (act): SiLU(inplace=True)\n      )\n      (4): C2f(\n        (cv1): Conv(\n          (conv): Conv2d(320, 320, kernel_size=(1, 1), stride=(1, 1), bias=False)\n          (bn): BatchNorm2d(320, eps=0.001, momentum=0.03, affine=True, track_running_stats=True)\n          (act): SiLU(inplace=True)\n        )\n        (cv2): Conv(\n          (conv): Conv2d(1280, 320, kernel_size=(1, 1), stride=(1, 1), bias=False)\n          (bn): BatchNorm2d(320, eps=0.001, momentum=0.03, affine=True, track_running_stats=True)\n          (act): SiLU(inplace=True)\n        )\n        (m): ModuleList(\n          (0-5): 6 x Bottleneck(\n            (cv1): Conv(\n              (conv): Conv2d(160, 160, kernel_size=(3, 3), stride=(1, 1), padding=(1, 1), bias=False)\n              (bn): BatchNorm2d(160, eps=0.001, momentum=0.03, affine=True, track_running_stats=True)\n              (act): SiLU(inplace=True)\n            )\n            (cv2): Conv(\n              (conv): Conv2d(160, 160, kernel_size=(3, 3), stride=(1, 1), padding=(1, 1), bias=False)\n              (bn): BatchNorm2d(160, eps=0.001, momentum=0.03, affine=True, track_running_stats=True)\n              (act): SiLU(inplace=True)\n            )\n          )\n        )\n      )\n      (5): Conv(\n        (conv): Conv2d(320, 640, kernel_size=(3, 3), stride=(2, 2), padding=(1, 1), bias=False)\n        (bn): BatchNorm2d(640, eps=0.001, momentum=0.03, affine=True, track_running_stats=True)\n        (act): SiLU(inplace=True)\n      )\n      (6): C2f(\n        (cv1): Conv(\n          (conv): Conv2d(640, 640, kernel_size=(1, 1), stride=(1, 1), bias=False)\n          (bn): BatchNorm2d(640, eps=0.001, momentum=0.03, affine=True, track_running_stats=True)\n          (act): SiLU(inplace=True)\n        )\n        (cv2): Conv(\n          (conv): Conv2d(2560, 640, kernel_size=(1, 1), stride=(1, 1), bias=False)\n          (bn): BatchNorm2d(640, eps=0.001, momentum=0.03, affine=True, track_running_stats=True)\n          (act): SiLU(inplace=True)\n        )\n        (m): ModuleList(\n          (0-5): 6 x Bottleneck(\n            (cv1): Conv(\n              (conv): Conv2d(320, 320, kernel_size=(3, 3), stride=(1, 1), padding=(1, 1), bias=False)\n              (bn): BatchNorm2d(320, eps=0.001, momentum=0.03, affine=True, track_running_stats=True)\n              (act): SiLU(inplace=True)\n            )\n            (cv2): Conv(\n              (conv): Conv2d(320, 320, kernel_size=(3, 3), stride=(1, 1), padding=(1, 1), bias=False)\n              (bn): BatchNorm2d(320, eps=0.001, momentum=0.03, affine=True, track_running_stats=True)\n              (act): SiLU(inplace=True)\n            )\n          )\n        )\n      )\n      (7): Conv(\n        (conv): Conv2d(640, 640, kernel_size=(3, 3), stride=(2, 2), padding=(1, 1), bias=False)\n        (bn): BatchNorm2d(640, eps=0.001, momentum=0.03, affine=True, track_running_stats=True)\n        (act): SiLU(inplace=True)\n      )\n      (8): C2f(\n        (cv1): Conv(\n          (conv): Conv2d(640, 640, kernel_size=(1, 1), stride=(1, 1), bias=False)\n          (bn): BatchNorm2d(640, eps=0.001, momentum=0.03, affine=True, track_running_stats=True)\n          (act): SiLU(inplace=True)\n        )\n        (cv2): Conv(\n          (conv): Conv2d(1600, 640, kernel_size=(1, 1), stride=(1, 1), bias=False)\n          (bn): BatchNorm2d(640, eps=0.001, momentum=0.03, affine=True, track_running_stats=True)\n          (act): SiLU(inplace=True)\n        )\n        (m): ModuleList(\n          (0-2): 3 x Bottleneck(\n            (cv1): Conv(\n              (conv): Conv2d(320, 320, kernel_size=(3, 3), stride=(1, 1), padding=(1, 1), bias=False)\n              (bn): BatchNorm2d(320, eps=0.001, momentum=0.03, affine=True, track_running_stats=True)\n              (act): SiLU(inplace=True)\n            )\n            (cv2): Conv(\n              (conv): Conv2d(320, 320, kernel_size=(3, 3), stride=(1, 1), padding=(1, 1), bias=False)\n              (bn): BatchNorm2d(320, eps=0.001, momentum=0.03, affine=True, track_running_stats=True)\n              (act): SiLU(inplace=True)\n            )\n          )\n        )\n      )\n      (9): SPPF(\n        (cv1): Conv(\n          (conv): Conv2d(640, 320, kernel_size=(1, 1), stride=(1, 1), bias=False)\n          (bn): BatchNorm2d(320, eps=0.001, momentum=0.03, affine=True, track_running_stats=True)\n          (act): SiLU(inplace=True)\n        )\n        (cv2): Conv(\n          (conv): Conv2d(1280, 640, kernel_size=(1, 1), stride=(1, 1), bias=False)\n          (bn): BatchNorm2d(640, eps=0.001, momentum=0.03, affine=True, track_running_stats=True)\n          (act): SiLU(inplace=True)\n        )\n        (m): MaxPool2d(kernel_size=5, stride=1, padding=2, dilation=1, ceil_mode=False)\n      )\n      (10): Upsample(scale_factor=2.0, mode='nearest')\n      (11): Concat()\n      (12): C2f(\n        (cv1): Conv(\n          (conv): Conv2d(1280, 640, kernel_size=(1, 1), stride=(1, 1), bias=False)\n          (bn): BatchNorm2d(640, eps=0.001, momentum=0.03, affine=True, track_running_stats=True)\n          (act): SiLU(inplace=True)\n        )\n        (cv2): Conv(\n          (conv): Conv2d(1600, 640, kernel_size=(1, 1), stride=(1, 1), bias=False)\n          (bn): BatchNorm2d(640, eps=0.001, momentum=0.03, affine=True, track_running_stats=True)\n          (act): SiLU(inplace=True)\n        )\n        (m): ModuleList(\n          (0-2): 3 x Bottleneck(\n            (cv1): Conv(\n              (conv): Conv2d(320, 320, kernel_size=(3, 3), stride=(1, 1), padding=(1, 1), bias=False)\n              (bn): BatchNorm2d(320, eps=0.001, momentum=0.03, affine=True, track_running_stats=True)\n              (act): SiLU(inplace=True)\n            )\n            (cv2): Conv(\n              (conv): Conv2d(320, 320, kernel_size=(3, 3), stride=(1, 1), padding=(1, 1), bias=False)\n              (bn): BatchNorm2d(320, eps=0.001, momentum=0.03, affine=True, track_running_stats=True)\n              (act): SiLU(inplace=True)\n            )\n          )\n        )\n      )\n      (13): Upsample(scale_factor=2.0, mode='nearest')\n      (14): Concat()\n      (15): C2f(\n        (cv1): Conv(\n          (conv): Conv2d(960, 320, kernel_size=(1, 1), stride=(1, 1), bias=False)\n          (bn): BatchNorm2d(320, eps=0.001, momentum=0.03, affine=True, track_running_stats=True)\n          (act): SiLU(inplace=True)\n        )\n        (cv2): Conv(\n          (conv): Conv2d(800, 320, kernel_size=(1, 1), stride=(1, 1), bias=False)\n          (bn): BatchNorm2d(320, eps=0.001, momentum=0.03, affine=True, track_running_stats=True)\n          (act): SiLU(inplace=True)\n        )\n        (m): ModuleList(\n          (0-2): 3 x Bottleneck(\n            (cv1): Conv(\n              (conv): Conv2d(160, 160, kernel_size=(3, 3), stride=(1, 1), padding=(1, 1), bias=False)\n              (bn): BatchNorm2d(160, eps=0.001, momentum=0.03, affine=True, track_running_stats=True)\n              (act): SiLU(inplace=True)\n            )\n            (cv2): Conv(\n              (conv): Conv2d(160, 160, kernel_size=(3, 3), stride=(1, 1), padding=(1, 1), bias=False)\n              (bn): BatchNorm2d(160, eps=0.001, momentum=0.03, affine=True, track_running_stats=True)\n              (act): SiLU(inplace=True)\n            )\n          )\n        )\n      )\n      (16): Conv(\n        (conv): Conv2d(320, 320, kernel_size=(3, 3), stride=(2, 2), padding=(1, 1), bias=False)\n        (bn): BatchNorm2d(320, eps=0.001, momentum=0.03, affine=True, track_running_stats=True)\n        (act): SiLU(inplace=True)\n      )\n      (17): Concat()\n      (18): C2f(\n        (cv1): Conv(\n          (conv): Conv2d(960, 640, kernel_size=(1, 1), stride=(1, 1), bias=False)\n          (bn): BatchNorm2d(640, eps=0.001, momentum=0.03, affine=True, track_running_stats=True)\n          (act): SiLU(inplace=True)\n        )\n        (cv2): Conv(\n          (conv): Conv2d(1600, 640, kernel_size=(1, 1), stride=(1, 1), bias=False)\n          (bn): BatchNorm2d(640, eps=0.001, momentum=0.03, affine=True, track_running_stats=True)\n          (act): SiLU(inplace=True)\n        )\n        (m): ModuleList(\n          (0-2): 3 x Bottleneck(\n            (cv1): Conv(\n              (conv): Conv2d(320, 320, kernel_size=(3, 3), stride=(1, 1), padding=(1, 1), bias=False)\n              (bn): BatchNorm2d(320, eps=0.001, momentum=0.03, affine=True, track_running_stats=True)\n              (act): SiLU(inplace=True)\n            )\n            (cv2): Conv(\n              (conv): Conv2d(320, 320, kernel_size=(3, 3), stride=(1, 1), padding=(1, 1), bias=False)\n              (bn): BatchNorm2d(320, eps=0.001, momentum=0.03, affine=True, track_running_stats=True)\n              (act): SiLU(inplace=True)\n            )\n          )\n        )\n      )\n      (19): Conv(\n        (conv): Conv2d(640, 640, kernel_size=(3, 3), stride=(2, 2), padding=(1, 1), bias=False)\n        (bn): BatchNorm2d(640, eps=0.001, momentum=0.03, affine=True, track_running_stats=True)\n        (act): SiLU(inplace=True)\n      )\n      (20): Concat()\n      (21): C2f(\n        (cv1): Conv(\n          (conv): Conv2d(1280, 640, kernel_size=(1, 1), stride=(1, 1), bias=False)\n          (bn): BatchNorm2d(640, eps=0.001, momentum=0.03, affine=True, track_running_stats=True)\n          (act): SiLU(inplace=True)\n        )\n        (cv2): Conv(\n          (conv): Conv2d(1600, 640, kernel_size=(1, 1), stride=(1, 1), bias=False)\n          (bn): BatchNorm2d(640, eps=0.001, momentum=0.03, affine=True, track_running_stats=True)\n          (act): SiLU(inplace=True)\n        )\n        (m): ModuleList(\n          (0-2): 3 x Bottleneck(\n            (cv1): Conv(\n              (conv): Conv2d(320, 320, kernel_size=(3, 3), stride=(1, 1), padding=(1, 1), bias=False)\n              (bn): BatchNorm2d(320, eps=0.001, momentum=0.03, affine=True, track_running_stats=True)\n              (act): SiLU(inplace=True)\n            )\n            (cv2): Conv(\n              (conv): Conv2d(320, 320, kernel_size=(3, 3), stride=(1, 1), padding=(1, 1), bias=False)\n              (bn): BatchNorm2d(320, eps=0.001, momentum=0.03, affine=True, track_running_stats=True)\n              (act): SiLU(inplace=True)\n            )\n          )\n        )\n      )\n      (22): Detect(\n        (cv2): ModuleList(\n          (0): Sequential(\n            (0): Conv(\n              (conv): Conv2d(320, 80, kernel_size=(3, 3), stride=(1, 1), padding=(1, 1), bias=False)\n              (bn): BatchNorm2d(80, eps=0.001, momentum=0.03, affine=True, track_running_stats=True)\n              (act): SiLU(inplace=True)\n            )\n            (1): Conv(\n              (conv): Conv2d(80, 80, kernel_size=(3, 3), stride=(1, 1), padding=(1, 1), bias=False)\n              (bn): BatchNorm2d(80, eps=0.001, momentum=0.03, affine=True, track_running_stats=True)\n              (act): SiLU(inplace=True)\n            )\n            (2): Conv2d(80, 64, kernel_size=(1, 1), stride=(1, 1))\n          )\n          (1-2): 2 x Sequential(\n            (0): Conv(\n              (conv): Conv2d(640, 80, kernel_size=(3, 3), stride=(1, 1), padding=(1, 1), bias=False)\n              (bn): BatchNorm2d(80, eps=0.001, momentum=0.03, affine=True, track_running_stats=True)\n              (act): SiLU(inplace=True)\n            )\n            (1): Conv(\n              (conv): Conv2d(80, 80, kernel_size=(3, 3), stride=(1, 1), padding=(1, 1), bias=False)\n              (bn): BatchNorm2d(80, eps=0.001, momentum=0.03, affine=True, track_running_stats=True)\n              (act): SiLU(inplace=True)\n            )\n            (2): Conv2d(80, 64, kernel_size=(1, 1), stride=(1, 1))\n          )\n        )\n        (cv3): ModuleList(\n          (0): Sequential(\n            (0): Conv(\n              (conv): Conv2d(320, 320, kernel_size=(3, 3), stride=(1, 1), padding=(1, 1), bias=False)\n              (bn): BatchNorm2d(320, eps=0.001, momentum=0.03, affine=True, track_running_stats=True)\n              (act): SiLU(inplace=True)\n            )\n            (1): Conv(\n              (conv): Conv2d(320, 320, kernel_size=(3, 3), stride=(1, 1), padding=(1, 1), bias=False)\n              (bn): BatchNorm2d(320, eps=0.001, momentum=0.03, affine=True, track_running_stats=True)\n              (act): SiLU(inplace=True)\n            )\n            (2): Conv2d(320, 1, kernel_size=(1, 1), stride=(1, 1))\n          )\n          (1-2): 2 x Sequential(\n            (0): Conv(\n              (conv): Conv2d(640, 320, kernel_size=(3, 3), stride=(1, 1), padding=(1, 1), bias=False)\n              (bn): BatchNorm2d(320, eps=0.001, momentum=0.03, affine=True, track_running_stats=True)\n              (act): SiLU(inplace=True)\n            )\n            (1): Conv(\n              (conv): Conv2d(320, 320, kernel_size=(3, 3), stride=(1, 1), padding=(1, 1), bias=False)\n              (bn): BatchNorm2d(320, eps=0.001, momentum=0.03, affine=True, track_running_stats=True)\n              (act): SiLU(inplace=True)\n            )\n            (2): Conv2d(320, 1, kernel_size=(1, 1), stride=(1, 1))\n          )\n        )\n        (dfl): DFL(\n          (conv): Conv2d(16, 1, kernel_size=(1, 1), stride=(1, 1), bias=False)\n        )\n      )\n    )\n  )\n)"
     },
     "execution_count": 59,
     "metadata": {},
     "output_type": "execute_result"
    }
   ],
   "source": [
    "detection_model = YOLO('./models/custom_yolov8pt_25_orig.pt')\n",
    "detection_model.to('cuda')"
   ],
   "metadata": {
    "collapsed": false
   }
  },
  {
   "cell_type": "code",
   "execution_count": 75,
   "outputs": [
    {
     "name": "stderr",
     "output_type": "stream",
     "text": [
      "\n",
      "image 1/1 C:\\Users\\\\PycharmProjects\\Wagon_number_OCR\\data\\63139984.jpg: 480x800 1 number, 288.0ms\n",
      "Speed: 6.0ms preprocess, 288.0ms inference, 3.1ms postprocess per image at shape (1, 3, 480, 800)\n",
      "Results saved to \u001B[1mcustom_runs\\custom_runs\u001B[0m\n"
     ]
    }
   ],
   "source": [
    "# Yolo detection for images\n",
    "result = detection_model.predict('./data/63139984.jpg', save = True, save_crop=True, project='custom_runs')"
   ],
   "metadata": {
    "collapsed": false
   }
  },
  {
   "cell_type": "code",
   "execution_count": 59,
   "outputs": [
    {
     "data": {
      "text/plain": "(240, 320, 3)"
     },
     "execution_count": 59,
     "metadata": {},
     "output_type": "execute_result"
    }
   ],
   "source": [
    "grey_im.shape"
   ],
   "metadata": {
    "collapsed": false
   }
  },
  {
   "cell_type": "code",
   "execution_count": 60,
   "outputs": [
    {
     "data": {
      "text/plain": "(720, 1280, 3)"
     },
     "execution_count": 60,
     "metadata": {},
     "output_type": "execute_result"
    }
   ],
   "source": [
    "color_im.shape"
   ],
   "metadata": {
    "collapsed": false
   }
  },
  {
   "cell_type": "code",
   "execution_count": 140,
   "outputs": [
    {
     "data": {
      "text/plain": "True"
     },
     "execution_count": 140,
     "metadata": {},
     "output_type": "execute_result"
    }
   ],
   "source": [
    "#  Image preprocessing: cv2.THRESH_BINARY, cv.ADAPTIVE_THRESH_GAUSSIAN_C, cv.ADAPTIVE_THRESH_MEAN_C\n",
    "crop_test = 'runs/detect/predict8/crops/number/42030106.jpg'\n",
    "bin_save_path = './temp/bin_img.jpg'\n",
    "gauss_save_path = './temp/adapt_gauss_bin_img.jpg'\n",
    "mean_save_path = './temp/adapt_mean_bin_img.jpg'\n",
    "otsu_save_path = './temp/otsu_img.jpg'\n",
    "\n",
    "img = cv2.imread(crop_test, cv2.IMREAD_GRAYSCALE)\n",
    "ret1, bin_img = cv2.threshold(img, 127,255, cv2.THRESH_BINARY)\n",
    "\n",
    "gauss_blur = cv2.GaussianBlur(img,(1,1),0)\n",
    "ret3, otsu_img = cv2.threshold(gauss_blur,0,255,cv2.THRESH_BINARY + cv2.THRESH_OTSU)\n",
    "\n",
    "blur_img = cv2.medianBlur(img, 5)\n",
    "\n",
    "# 49, 2 / 69, -5\n",
    "gauss_bin_img = cv2.adaptiveThreshold(blur_img, 255, cv2.ADAPTIVE_THRESH_GAUSSIAN_C, cv2.THRESH_BINARY_INV, 29, -4)\n",
    "mean_bin_img = cv2.adaptiveThreshold(blur_img, 255, cv2.ADAPTIVE_THRESH_MEAN_C, cv2.THRESH_BINARY_INV, 29, -4)\n",
    "\n",
    "cv2.imwrite(bin_save_path, bin_img)\n",
    "cv2.imwrite(gauss_save_path, gauss_bin_img)\n",
    "cv2.imwrite(mean_save_path, mean_bin_img)\n",
    "cv2.imwrite(otsu_save_path, otsu_img)"
   ],
   "metadata": {
    "collapsed": false
   }
  },
  {
   "cell_type": "code",
   "execution_count": 6,
   "outputs": [
    {
     "ename": "NameError",
     "evalue": "name 'reader' is not defined",
     "output_type": "error",
     "traceback": [
      "\u001B[1;31m---------------------------------------------------------------------------\u001B[0m",
      "\u001B[1;31mNameError\u001B[0m                                 Traceback (most recent call last)",
      "Cell \u001B[1;32mIn[6], line 3\u001B[0m\n\u001B[0;32m      1\u001B[0m \u001B[38;5;66;03m# Testing easyocr for img with different preprocessings\u001B[39;00m\n\u001B[1;32m----> 3\u001B[0m origin_img_res \u001B[38;5;241m=\u001B[39m \u001B[43mreader\u001B[49m\u001B[38;5;241m.\u001B[39mreadtext(crop_test, allowlist \u001B[38;5;241m=\u001B[39m\u001B[38;5;124m'\u001B[39m\u001B[38;5;124m0123456789\u001B[39m\u001B[38;5;124m'\u001B[39m)\n\u001B[0;32m      4\u001B[0m bin_img_res \u001B[38;5;241m=\u001B[39m reader\u001B[38;5;241m.\u001B[39mreadtext(bin_save_path, allowlist \u001B[38;5;241m=\u001B[39m\u001B[38;5;124m'\u001B[39m\u001B[38;5;124m0123456789\u001B[39m\u001B[38;5;124m'\u001B[39m)  \u001B[38;5;66;03m# cv2.THRESH_BINARY\u001B[39;00m\n\u001B[0;32m      5\u001B[0m gauss_img_res \u001B[38;5;241m=\u001B[39m reader\u001B[38;5;241m.\u001B[39mreadtext(gauss_save_path, allowlist \u001B[38;5;241m=\u001B[39m\u001B[38;5;124m'\u001B[39m\u001B[38;5;124m0123456789\u001B[39m\u001B[38;5;124m'\u001B[39m)  \u001B[38;5;66;03m# cv2.ADAPTIVE_THRESH_GAUSSIAN_C + cv2.THRESH_BINARY_INV\u001B[39;00m\n",
      "\u001B[1;31mNameError\u001B[0m: name 'reader' is not defined"
     ]
    }
   ],
   "source": [
    "# Testing easyocr for img with different preprocessings\n",
    "\n",
    "origin_img_res = reader.readtext(crop_test, allowlist ='0123456789')\n",
    "bin_img_res = reader.readtext(bin_save_path, allowlist ='0123456789')  # cv2.THRESH_BINARY\n",
    "gauss_img_res = reader.readtext(gauss_save_path, allowlist ='0123456789')  # cv2.ADAPTIVE_THRESH_GAUSSIAN_C + cv2.THRESH_BINARY_INV\n",
    "mean_img_res = reader.readtext(mean_save_path, allowlist ='0123456789')  # cv2.ADAPTIVE_THRESH_MEAN_C + cv2.THRESH_BINARY_INV\n",
    "\n",
    "frame = cv2.imread(crop_test)\n",
    "annotated_frame = print_boxes(origin_img_res, frame)\n",
    "cv2.imwrite('./results/origin_color.jpg', annotated_frame)\n",
    "\n",
    "frame = cv2.imread(bin_save_path)\n",
    "annotated_frame = print_boxes(bin_img_res, frame)\n",
    "cv2.imwrite('./results/bin_color_res.jpg', annotated_frame)\n",
    "\n",
    "frame = cv2.imread(gauss_save_path)\n",
    "annotated_frame = print_boxes(gauss_img_res, frame)\n",
    "cv2.imwrite('./results/gauss_color_res.jpg', annotated_frame)\n",
    "\n",
    "frame = cv2.imread(mean_save_path)\n",
    "annotated_frame = print_boxes(mean_img_res, frame)\n",
    "cv2.imwrite('./results/mean_color_res.jpg', annotated_frame)\n",
    "\n",
    "print(f'Origin color: {origin_img_res[0][1], origin_img_res[0][2]}')\n",
    "if bin_img_res:\n",
    "    print(f'Bin color: {bin_img_res[0][1], bin_img_res[0][2]}')\n",
    "if gauss_img_res:\n",
    "    print(f'Gauss color: {gauss_img_res[0][1], gauss_img_res[0][2]}')\n",
    "if mean_img_res:\n",
    "    print(f'Mean color: {mean_img_res[0][1], mean_img_res[0][2]}')"
   ],
   "metadata": {
    "collapsed": false
   }
  },
  {
   "cell_type": "code",
   "execution_count": 64,
   "outputs": [
    {
     "data": {
      "text/plain": "[]"
     },
     "execution_count": 64,
     "metadata": {},
     "output_type": "execute_result"
    }
   ],
   "source": [
    "bin_color_res"
   ],
   "metadata": {
    "collapsed": false
   }
  },
  {
   "cell_type": "code",
   "execution_count": null,
   "outputs": [],
   "source": [
    "origin_grey_res = reader.readtext(grey_crop_test, allowlist ='0123456789')\n",
    "\n",
    "frame = cv2.imread(grey_crop_test)\n",
    "annotated_frame = print_boxes(origin_grey_res, frame)\n",
    "cv2.imwrite('./results/origin_grey.jpg', annotated_frame)"
   ],
   "metadata": {
    "collapsed": false
   }
  },
  {
   "cell_type": "code",
   "execution_count": null,
   "outputs": [],
   "source": [
    "img = cv2.imread('./.jpg')\n",
    "pytesseract.pytesseract.tesseract_cmd = r'C:\\Program Files\\Tesseract-OCR\\tesseract'\n",
    "d = pytesseract.image_to_string(img)\n",
    "print(d)"
   ],
   "metadata": {
    "collapsed": false
   }
  },
  {
   "cell_type": "code",
   "execution_count": 1,
   "outputs": [],
   "source": [
    "from mmocr.apis import MMOCRInferencer"
   ],
   "metadata": {
    "collapsed": false
   }
  },
  {
   "cell_type": "code",
   "execution_count": 47,
   "outputs": [
    {
     "ename": "KeyboardInterrupt",
     "evalue": "",
     "output_type": "error",
     "traceback": [
      "\u001B[1;31m---------------------------------------------------------------------------\u001B[0m",
      "\u001B[1;31mKeyboardInterrupt\u001B[0m                         Traceback (most recent call last)",
      "Cell \u001B[1;32mIn[47], line 1\u001B[0m\n\u001B[1;32m----> 1\u001B[0m ocr \u001B[38;5;241m=\u001B[39m \u001B[43mMMOCRInferencer\u001B[49m\u001B[43m(\u001B[49m\u001B[43mdet\u001B[49m\u001B[38;5;241;43m=\u001B[39;49m\u001B[38;5;28;43;01mNone\u001B[39;49;00m\u001B[43m,\u001B[49m\u001B[43m \u001B[49m\u001B[43mrec\u001B[49m\u001B[38;5;241;43m=\u001B[39;49m\u001B[38;5;124;43m'\u001B[39;49m\u001B[38;5;124;43mAster\u001B[39;49m\u001B[38;5;124;43m'\u001B[39;49m\u001B[43m)\u001B[49m\n",
      "File \u001B[1;32mC:\\temp\\Anaconda\\lib\\site-packages\\mmocr\\apis\\inferencers\\mmocr_inferencer.py:73\u001B[0m, in \u001B[0;36mMMOCRInferencer.__init__\u001B[1;34m(self, det, det_weights, rec, rec_weights, kie, kie_weights, device)\u001B[0m\n\u001B[0;32m     71\u001B[0m     \u001B[38;5;28mself\u001B[39m\u001B[38;5;241m.\u001B[39mmode \u001B[38;5;241m=\u001B[39m \u001B[38;5;124m'\u001B[39m\u001B[38;5;124mdet\u001B[39m\u001B[38;5;124m'\u001B[39m\n\u001B[0;32m     72\u001B[0m \u001B[38;5;28;01mif\u001B[39;00m rec \u001B[38;5;129;01mis\u001B[39;00m \u001B[38;5;129;01mnot\u001B[39;00m \u001B[38;5;28;01mNone\u001B[39;00m:\n\u001B[1;32m---> 73\u001B[0m     \u001B[38;5;28mself\u001B[39m\u001B[38;5;241m.\u001B[39mtextrec_inferencer \u001B[38;5;241m=\u001B[39m \u001B[43mTextRecInferencer\u001B[49m\u001B[43m(\u001B[49m\n\u001B[0;32m     74\u001B[0m \u001B[43m        \u001B[49m\u001B[43mrec\u001B[49m\u001B[43m,\u001B[49m\u001B[43m \u001B[49m\u001B[43mrec_weights\u001B[49m\u001B[43m,\u001B[49m\u001B[43m \u001B[49m\u001B[43mdevice\u001B[49m\u001B[43m)\u001B[49m\n\u001B[0;32m     75\u001B[0m     \u001B[38;5;28;01mif\u001B[39;00m \u001B[38;5;28mgetattr\u001B[39m(\u001B[38;5;28mself\u001B[39m, \u001B[38;5;124m'\u001B[39m\u001B[38;5;124mmode\u001B[39m\u001B[38;5;124m'\u001B[39m, \u001B[38;5;28;01mNone\u001B[39;00m) \u001B[38;5;241m==\u001B[39m \u001B[38;5;124m'\u001B[39m\u001B[38;5;124mdet\u001B[39m\u001B[38;5;124m'\u001B[39m:\n\u001B[0;32m     76\u001B[0m         \u001B[38;5;28mself\u001B[39m\u001B[38;5;241m.\u001B[39mmode \u001B[38;5;241m=\u001B[39m \u001B[38;5;124m'\u001B[39m\u001B[38;5;124mdet_rec\u001B[39m\u001B[38;5;124m'\u001B[39m\n",
      "File \u001B[1;32mC:\\temp\\Anaconda\\lib\\site-packages\\mmocr\\apis\\inferencers\\base_mmocr_inferencer.py:65\u001B[0m, in \u001B[0;36mBaseMMOCRInferencer.__init__\u001B[1;34m(self, model, weights, device, scope)\u001B[0m\n\u001B[0;32m     63\u001B[0m \u001B[38;5;28mself\u001B[39m\u001B[38;5;241m.\u001B[39mnum_unnamed_imgs \u001B[38;5;241m=\u001B[39m \u001B[38;5;241m0\u001B[39m\n\u001B[0;32m     64\u001B[0m init_default_scope(scope)\n\u001B[1;32m---> 65\u001B[0m \u001B[38;5;28;43msuper\u001B[39;49m\u001B[43m(\u001B[49m\u001B[43m)\u001B[49m\u001B[38;5;241;43m.\u001B[39;49m\u001B[38;5;21;43m__init__\u001B[39;49m\u001B[43m(\u001B[49m\n\u001B[0;32m     66\u001B[0m \u001B[43m    \u001B[49m\u001B[43mmodel\u001B[49m\u001B[38;5;241;43m=\u001B[39;49m\u001B[43mmodel\u001B[49m\u001B[43m,\u001B[49m\u001B[43m \u001B[49m\u001B[43mweights\u001B[49m\u001B[38;5;241;43m=\u001B[39;49m\u001B[43mweights\u001B[49m\u001B[43m,\u001B[49m\u001B[43m \u001B[49m\u001B[43mdevice\u001B[49m\u001B[38;5;241;43m=\u001B[39;49m\u001B[43mdevice\u001B[49m\u001B[43m,\u001B[49m\u001B[43m \u001B[49m\u001B[43mscope\u001B[49m\u001B[38;5;241;43m=\u001B[39;49m\u001B[43mscope\u001B[49m\u001B[43m)\u001B[49m\n\u001B[0;32m     67\u001B[0m \u001B[38;5;28mself\u001B[39m\u001B[38;5;241m.\u001B[39mmodel \u001B[38;5;241m=\u001B[39m revert_sync_batchnorm(\u001B[38;5;28mself\u001B[39m\u001B[38;5;241m.\u001B[39mmodel)\n",
      "File \u001B[1;32mC:\\temp\\Anaconda\\lib\\site-packages\\mmengine\\infer\\infer.py:160\u001B[0m, in \u001B[0;36mBaseInferencer.__init__\u001B[1;34m(self, model, weights, device, scope, show_progress)\u001B[0m\n\u001B[0;32m    156\u001B[0m     cfg \u001B[38;5;241m=\u001B[39m Config\u001B[38;5;241m.\u001B[39mfromfile(model)\n\u001B[0;32m    157\u001B[0m \u001B[38;5;28;01melse\u001B[39;00m:\n\u001B[0;32m    158\u001B[0m     \u001B[38;5;66;03m# Load config and weights from metafile. If `weights` is\u001B[39;00m\n\u001B[0;32m    159\u001B[0m     \u001B[38;5;66;03m# assigned, the weights defined in metafile will be ignored.\u001B[39;00m\n\u001B[1;32m--> 160\u001B[0m     cfg, _weights \u001B[38;5;241m=\u001B[39m \u001B[38;5;28;43mself\u001B[39;49m\u001B[38;5;241;43m.\u001B[39;49m\u001B[43m_load_model_from_metafile\u001B[49m\u001B[43m(\u001B[49m\u001B[43mmodel\u001B[49m\u001B[43m)\u001B[49m\n\u001B[0;32m    161\u001B[0m     \u001B[38;5;28;01mif\u001B[39;00m weights \u001B[38;5;129;01mis\u001B[39;00m \u001B[38;5;28;01mNone\u001B[39;00m:\n\u001B[0;32m    162\u001B[0m         weights \u001B[38;5;241m=\u001B[39m _weights\n",
      "File \u001B[1;32mC:\\temp\\Anaconda\\lib\\site-packages\\mmengine\\infer\\infer.py:388\u001B[0m, in \u001B[0;36mBaseInferencer._load_model_from_metafile\u001B[1;34m(self, model)\u001B[0m\n\u001B[0;32m    386\u001B[0m     model_aliases \u001B[38;5;241m=\u001B[39m [alias\u001B[38;5;241m.\u001B[39mlower() \u001B[38;5;28;01mfor\u001B[39;00m alias \u001B[38;5;129;01min\u001B[39;00m model_aliases]\n\u001B[0;32m    387\u001B[0m \u001B[38;5;28;01mif\u001B[39;00m (model_name \u001B[38;5;241m==\u001B[39m model \u001B[38;5;129;01mor\u001B[39;00m model \u001B[38;5;129;01min\u001B[39;00m model_aliases):\n\u001B[1;32m--> 388\u001B[0m     cfg \u001B[38;5;241m=\u001B[39m \u001B[43mConfig\u001B[49m\u001B[38;5;241;43m.\u001B[39;49m\u001B[43mfromfile\u001B[49m\u001B[43m(\u001B[49m\n\u001B[0;32m    389\u001B[0m \u001B[43m        \u001B[49m\u001B[43mosp\u001B[49m\u001B[38;5;241;43m.\u001B[39;49m\u001B[43mjoin\u001B[49m\u001B[43m(\u001B[49m\u001B[43mrepo_or_mim_dir\u001B[49m\u001B[43m,\u001B[49m\u001B[43m \u001B[49m\u001B[43mmodel_cfg\u001B[49m\u001B[43m[\u001B[49m\u001B[38;5;124;43m'\u001B[39;49m\u001B[38;5;124;43mConfig\u001B[39;49m\u001B[38;5;124;43m'\u001B[39;49m\u001B[43m]\u001B[49m\u001B[43m)\u001B[49m\u001B[43m)\u001B[49m\n\u001B[0;32m    390\u001B[0m     weights \u001B[38;5;241m=\u001B[39m model_cfg[\u001B[38;5;124m'\u001B[39m\u001B[38;5;124mWeights\u001B[39m\u001B[38;5;124m'\u001B[39m]\n\u001B[0;32m    391\u001B[0m     weights \u001B[38;5;241m=\u001B[39m weights[\u001B[38;5;241m0\u001B[39m] \u001B[38;5;28;01mif\u001B[39;00m \u001B[38;5;28misinstance\u001B[39m(weights, \u001B[38;5;28mlist\u001B[39m) \u001B[38;5;28;01melse\u001B[39;00m weights\n",
      "File \u001B[1;32mC:\\temp\\Anaconda\\lib\\site-packages\\mmengine\\config\\config.py:457\u001B[0m, in \u001B[0;36mConfig.fromfile\u001B[1;34m(filename, use_predefined_variables, import_custom_modules, use_environment_variables, lazy_import, format_python_code)\u001B[0m\n\u001B[0;32m    454\u001B[0m filename \u001B[38;5;241m=\u001B[39m \u001B[38;5;28mstr\u001B[39m(filename) \u001B[38;5;28;01mif\u001B[39;00m \u001B[38;5;28misinstance\u001B[39m(filename, Path) \u001B[38;5;28;01melse\u001B[39;00m filename\n\u001B[0;32m    455\u001B[0m \u001B[38;5;28;01mif\u001B[39;00m lazy_import \u001B[38;5;129;01mis\u001B[39;00m \u001B[38;5;28;01mFalse\u001B[39;00m \u001B[38;5;129;01mor\u001B[39;00m \\\n\u001B[0;32m    456\u001B[0m    lazy_import \u001B[38;5;129;01mis\u001B[39;00m \u001B[38;5;28;01mNone\u001B[39;00m \u001B[38;5;129;01mand\u001B[39;00m \u001B[38;5;129;01mnot\u001B[39;00m Config\u001B[38;5;241m.\u001B[39m_is_lazy_import(filename):\n\u001B[1;32m--> 457\u001B[0m     cfg_dict, cfg_text, env_variables \u001B[38;5;241m=\u001B[39m \u001B[43mConfig\u001B[49m\u001B[38;5;241;43m.\u001B[39;49m\u001B[43m_file2dict\u001B[49m\u001B[43m(\u001B[49m\n\u001B[0;32m    458\u001B[0m \u001B[43m        \u001B[49m\u001B[43mfilename\u001B[49m\u001B[43m,\u001B[49m\u001B[43m \u001B[49m\u001B[43muse_predefined_variables\u001B[49m\u001B[43m,\u001B[49m\u001B[43m \u001B[49m\u001B[43muse_environment_variables\u001B[49m\u001B[43m,\u001B[49m\n\u001B[0;32m    459\u001B[0m \u001B[43m        \u001B[49m\u001B[43mlazy_import\u001B[49m\u001B[43m)\u001B[49m\n\u001B[0;32m    460\u001B[0m     \u001B[38;5;28;01mif\u001B[39;00m import_custom_modules \u001B[38;5;129;01mand\u001B[39;00m cfg_dict\u001B[38;5;241m.\u001B[39mget(\u001B[38;5;124m'\u001B[39m\u001B[38;5;124mcustom_imports\u001B[39m\u001B[38;5;124m'\u001B[39m, \u001B[38;5;28;01mNone\u001B[39;00m):\n\u001B[0;32m    461\u001B[0m         \u001B[38;5;28;01mtry\u001B[39;00m:\n",
      "File \u001B[1;32mC:\\temp\\Anaconda\\lib\\site-packages\\mmengine\\config\\config.py:883\u001B[0m, in \u001B[0;36mConfig._file2dict\u001B[1;34m(filename, use_predefined_variables, use_environment_variables, lazy_import)\u001B[0m\n\u001B[0;32m    879\u001B[0m \u001B[38;5;28;01mfor\u001B[39;00m base_cfg_path \u001B[38;5;129;01min\u001B[39;00m Config\u001B[38;5;241m.\u001B[39m_get_base_files(\n\u001B[0;32m    880\u001B[0m         temp_config_file\u001B[38;5;241m.\u001B[39mname):\n\u001B[0;32m    881\u001B[0m     base_cfg_path, scope \u001B[38;5;241m=\u001B[39m Config\u001B[38;5;241m.\u001B[39m_get_cfg_path(\n\u001B[0;32m    882\u001B[0m         base_cfg_path, filename)\n\u001B[1;32m--> 883\u001B[0m     _cfg_dict, _cfg_text, _env_variables \u001B[38;5;241m=\u001B[39m \u001B[43mConfig\u001B[49m\u001B[38;5;241;43m.\u001B[39;49m\u001B[43m_file2dict\u001B[49m\u001B[43m(\u001B[49m\n\u001B[0;32m    884\u001B[0m \u001B[43m        \u001B[49m\u001B[43mfilename\u001B[49m\u001B[38;5;241;43m=\u001B[39;49m\u001B[43mbase_cfg_path\u001B[49m\u001B[43m,\u001B[49m\n\u001B[0;32m    885\u001B[0m \u001B[43m        \u001B[49m\u001B[43muse_predefined_variables\u001B[49m\u001B[38;5;241;43m=\u001B[39;49m\u001B[43muse_predefined_variables\u001B[49m\u001B[43m,\u001B[49m\n\u001B[0;32m    886\u001B[0m \u001B[43m        \u001B[49m\u001B[43muse_environment_variables\u001B[49m\u001B[38;5;241;43m=\u001B[39;49m\u001B[43muse_environment_variables\u001B[49m\u001B[43m,\u001B[49m\n\u001B[0;32m    887\u001B[0m \u001B[43m        \u001B[49m\u001B[43mlazy_import\u001B[49m\u001B[38;5;241;43m=\u001B[39;49m\u001B[43mlazy_import\u001B[49m\u001B[43m,\u001B[49m\n\u001B[0;32m    888\u001B[0m \u001B[43m    \u001B[49m\u001B[43m)\u001B[49m\n\u001B[0;32m    889\u001B[0m     cfg_text_list\u001B[38;5;241m.\u001B[39mappend(_cfg_text)\n\u001B[0;32m    890\u001B[0m     env_variables\u001B[38;5;241m.\u001B[39mupdate(_env_variables)\n",
      "File \u001B[1;32mC:\\temp\\Anaconda\\lib\\site-packages\\mmengine\\config\\config.py:839\u001B[0m, in \u001B[0;36mConfig._file2dict\u001B[1;34m(filename, use_predefined_variables, use_environment_variables, lazy_import)\u001B[0m\n\u001B[0;32m    820\u001B[0m \u001B[38;5;129m@staticmethod\u001B[39m\n\u001B[0;32m    821\u001B[0m \u001B[38;5;28;01mdef\u001B[39;00m \u001B[38;5;21m_file2dict\u001B[39m(\n\u001B[0;32m    822\u001B[0m         filename: \u001B[38;5;28mstr\u001B[39m,\n\u001B[0;32m    823\u001B[0m         use_predefined_variables: \u001B[38;5;28mbool\u001B[39m \u001B[38;5;241m=\u001B[39m \u001B[38;5;28;01mTrue\u001B[39;00m,\n\u001B[0;32m    824\u001B[0m         use_environment_variables: \u001B[38;5;28mbool\u001B[39m \u001B[38;5;241m=\u001B[39m \u001B[38;5;28;01mTrue\u001B[39;00m,\n\u001B[0;32m    825\u001B[0m         lazy_import: Optional[\u001B[38;5;28mbool\u001B[39m] \u001B[38;5;241m=\u001B[39m \u001B[38;5;28;01mNone\u001B[39;00m) \u001B[38;5;241m-\u001B[39m\u001B[38;5;241m>\u001B[39m Tuple[\u001B[38;5;28mdict\u001B[39m, \u001B[38;5;28mstr\u001B[39m, \u001B[38;5;28mdict\u001B[39m]:\n\u001B[0;32m    826\u001B[0m \u001B[38;5;250m    \u001B[39m\u001B[38;5;124;03m\"\"\"Transform file to variables dictionary.\u001B[39;00m\n\u001B[0;32m    827\u001B[0m \n\u001B[0;32m    828\u001B[0m \u001B[38;5;124;03m    Args:\u001B[39;00m\n\u001B[1;32m   (...)\u001B[0m\n\u001B[0;32m    837\u001B[0m \u001B[38;5;124;03m        Tuple[dict, str]: Variables dictionary and text of Config.\u001B[39;00m\n\u001B[0;32m    838\u001B[0m \u001B[38;5;124;03m    \"\"\"\u001B[39;00m\n\u001B[1;32m--> 839\u001B[0m     \u001B[38;5;28;01mif\u001B[39;00m lazy_import \u001B[38;5;129;01mis\u001B[39;00m \u001B[38;5;28;01mNone\u001B[39;00m \u001B[38;5;129;01mand\u001B[39;00m \u001B[43mConfig\u001B[49m\u001B[38;5;241;43m.\u001B[39;49m\u001B[43m_is_lazy_import\u001B[49m\u001B[43m(\u001B[49m\u001B[43mfilename\u001B[49m\u001B[43m)\u001B[49m:\n\u001B[0;32m    840\u001B[0m         \u001B[38;5;28;01mraise\u001B[39;00m \u001B[38;5;167;01mRuntimeError\u001B[39;00m(\n\u001B[0;32m    841\u001B[0m             \u001B[38;5;124m'\u001B[39m\u001B[38;5;124mThe configuration file type in the inheritance chain \u001B[39m\u001B[38;5;124m'\u001B[39m\n\u001B[0;32m    842\u001B[0m             \u001B[38;5;124m'\u001B[39m\u001B[38;5;124mmust match the current configuration file type, either \u001B[39m\u001B[38;5;124m'\u001B[39m\n\u001B[1;32m   (...)\u001B[0m\n\u001B[0;32m    846\u001B[0m             \u001B[38;5;124m'\u001B[39m\u001B[38;5;124minformation in https://mmengine.readthedocs.io/en/latest/advanced_tutorials/config.html\u001B[39m\u001B[38;5;124m'\u001B[39m  \u001B[38;5;66;03m# noqa: E501\u001B[39;00m\n\u001B[0;32m    847\u001B[0m         )\n\u001B[0;32m    849\u001B[0m     filename \u001B[38;5;241m=\u001B[39m osp\u001B[38;5;241m.\u001B[39mabspath(osp\u001B[38;5;241m.\u001B[39mexpanduser(filename))\n",
      "File \u001B[1;32mC:\\temp\\Anaconda\\lib\\site-packages\\mmengine\\config\\config.py:1655\u001B[0m, in \u001B[0;36mConfig._is_lazy_import\u001B[1;34m(filename)\u001B[0m\n\u001B[0;32m   1653\u001B[0m \u001B[38;5;28;01mif\u001B[39;00m \u001B[38;5;129;01mnot\u001B[39;00m filename\u001B[38;5;241m.\u001B[39mendswith(\u001B[38;5;124m'\u001B[39m\u001B[38;5;124m.py\u001B[39m\u001B[38;5;124m'\u001B[39m):\n\u001B[0;32m   1654\u001B[0m     \u001B[38;5;28;01mreturn\u001B[39;00m \u001B[38;5;28;01mFalse\u001B[39;00m\n\u001B[1;32m-> 1655\u001B[0m \u001B[38;5;28;01mwith\u001B[39;00m \u001B[38;5;28;43mopen\u001B[39;49m\u001B[43m(\u001B[49m\u001B[43mfilename\u001B[49m\u001B[43m,\u001B[49m\u001B[43m \u001B[49m\u001B[43mencoding\u001B[49m\u001B[38;5;241;43m=\u001B[39;49m\u001B[38;5;124;43m'\u001B[39;49m\u001B[38;5;124;43mutf-8\u001B[39;49m\u001B[38;5;124;43m'\u001B[39;49m\u001B[43m)\u001B[49m \u001B[38;5;28;01mas\u001B[39;00m f:\n\u001B[0;32m   1656\u001B[0m     codes_str \u001B[38;5;241m=\u001B[39m f\u001B[38;5;241m.\u001B[39mread()\n\u001B[0;32m   1657\u001B[0m     parsed_codes \u001B[38;5;241m=\u001B[39m ast\u001B[38;5;241m.\u001B[39mparse(codes_str)\n",
      "File \u001B[1;32mC:\\temp\\Anaconda\\lib\\codecs.py:309\u001B[0m, in \u001B[0;36mBufferedIncrementalDecoder.__init__\u001B[1;34m(self, errors)\u001B[0m\n\u001B[0;32m    303\u001B[0m \u001B[38;5;28;01mclass\u001B[39;00m \u001B[38;5;21;01mBufferedIncrementalDecoder\u001B[39;00m(IncrementalDecoder):\n\u001B[0;32m    304\u001B[0m \u001B[38;5;250m    \u001B[39m\u001B[38;5;124;03m\"\"\"\u001B[39;00m\n\u001B[0;32m    305\u001B[0m \u001B[38;5;124;03m    This subclass of IncrementalDecoder can be used as the baseclass for an\u001B[39;00m\n\u001B[0;32m    306\u001B[0m \u001B[38;5;124;03m    incremental decoder if the decoder must be able to handle incomplete\u001B[39;00m\n\u001B[0;32m    307\u001B[0m \u001B[38;5;124;03m    byte sequences.\u001B[39;00m\n\u001B[0;32m    308\u001B[0m \u001B[38;5;124;03m    \"\"\"\u001B[39;00m\n\u001B[1;32m--> 309\u001B[0m     \u001B[38;5;28;01mdef\u001B[39;00m \u001B[38;5;21m__init__\u001B[39m(\u001B[38;5;28mself\u001B[39m, errors\u001B[38;5;241m=\u001B[39m\u001B[38;5;124m'\u001B[39m\u001B[38;5;124mstrict\u001B[39m\u001B[38;5;124m'\u001B[39m):\n\u001B[0;32m    310\u001B[0m         IncrementalDecoder\u001B[38;5;241m.\u001B[39m\u001B[38;5;21m__init__\u001B[39m(\u001B[38;5;28mself\u001B[39m, errors)\n\u001B[0;32m    311\u001B[0m         \u001B[38;5;66;03m# undecoded input that is kept between calls to decode()\u001B[39;00m\n",
      "\u001B[1;31mKeyboardInterrupt\u001B[0m: "
     ]
    }
   ],
   "source": [
    "ocr = MMOCRInferencer(det=None, rec='Aster')  # 'DBNet'"
   ],
   "metadata": {
    "collapsed": false
   }
  },
  {
   "cell_type": "code",
   "execution_count": 67,
   "outputs": [
    {
     "ename": "NameError",
     "evalue": "name 'get_atter' is not defined",
     "output_type": "error",
     "traceback": [
      "\u001B[1;31m---------------------------------------------------------------------------\u001B[0m",
      "\u001B[1;31mNameError\u001B[0m                                 Traceback (most recent call last)",
      "Cell \u001B[1;32mIn[67], line 1\u001B[0m\n\u001B[1;32m----> 1\u001B[0m \u001B[43mget_atter\u001B[49m(ocr)\n",
      "\u001B[1;31mNameError\u001B[0m: name 'get_atter' is not defined"
     ]
    }
   ],
   "source": [
    "ocr"
   ],
   "metadata": {
    "collapsed": false
   }
  },
  {
   "cell_type": "code",
   "execution_count": 71,
   "outputs": [
    {
     "data": {
      "text/plain": "Output()",
      "application/vnd.jupyter.widget-view+json": {
       "version_major": 2,
       "version_minor": 0,
       "model_id": "11d885069a624f42bf7170dbdd65f393"
      }
     },
     "metadata": {},
     "output_type": "display_data"
    },
    {
     "data": {
      "text/plain": "\n",
      "text/html": "<pre style=\"white-space:pre;overflow-x:auto;line-height:normal;font-family:Menlo,'DejaVu Sans Mono',consolas,'Courier New',monospace\">\n</pre>\n"
     },
     "metadata": {},
     "output_type": "display_data"
    },
    {
     "data": {
      "text/plain": "",
      "text/html": "<pre style=\"white-space:pre;overflow-x:auto;line-height:normal;font-family:Menlo,'DejaVu Sans Mono',consolas,'Courier New',monospace\"></pre>\n"
     },
     "metadata": {},
     "output_type": "display_data"
    },
    {
     "data": {
      "text/plain": "\n",
      "text/html": "<pre style=\"white-space:pre;overflow-x:auto;line-height:normal;font-family:Menlo,'DejaVu Sans Mono',consolas,'Courier New',monospace\">\n</pre>\n"
     },
     "metadata": {},
     "output_type": "display_data"
    }
   ],
   "source": [
    "res = ocr('runs/detect/predict8/crops/number/_2338558.jpg')"
   ],
   "metadata": {
    "collapsed": false
   }
  },
  {
   "cell_type": "code",
   "execution_count": 72,
   "outputs": [
    {
     "data": {
      "text/plain": "{'predictions': [{'rec_texts': ['23385582'],\n   'rec_scores': [0.8660839647054672]}],\n 'visualization': []}"
     },
     "execution_count": 72,
     "metadata": {},
     "output_type": "execute_result"
    }
   ],
   "source": [
    "res"
   ],
   "metadata": {
    "collapsed": false
   }
  },
  {
   "cell_type": "code",
   "execution_count": 41,
   "outputs": [
    {
     "name": "stderr",
     "output_type": "stream",
     "text": [
      "\n",
      "KeyboardInterrupt\n",
      "\n"
     ]
    }
   ],
   "source": [
    "f = open('train_data/full/labels')"
   ],
   "metadata": {
    "collapsed": false
   }
  },
  {
   "cell_type": "code",
   "execution_count": 4,
   "outputs": [
    {
     "data": {
      "text/plain": "['24252710.json',\n '24295479.json',\n '24353013.json',\n '24424020.json',\n '24432064.json',\n '24529281.json',\n '24530545.json',\n '26237099.json',\n '28005312.json',\n '28008332.json',\n '28025021.json',\n '28027647.json',\n '28047389.json',\n '28079838.json',\n '28822880.json',\n '28865640.json',\n '29025210.json',\n '29029972.json',\n '29051091.json',\n '30603179.json',\n '30639017.json',\n '30639124.json',\n '42012526.json',\n '42026278.json',\n '42026633.json',\n '42026781.json',\n '42026872.json',\n '42030098.json',\n '42030106.json',\n '42030189.json',\n '42030239.json',\n '42030312.json',\n '42030361.json',\n '42030510.json',\n '42030973.json',\n '42031922.json',\n '42031971.json',\n '42032045.json',\n '42032110.json',\n '42032250.json',\n '42038323.json',\n '42038448.json',\n '42038455.json',\n '42038497.json',\n '42039958.json',\n '42040188.json',\n '42040550.json',\n '42040634.json',\n '42040741.json',\n '42070607.json',\n '42071019.json',\n '42071043.json',\n '42071373.json',\n '42091595.json',\n '42099309.json',\n '42099358.json',\n '42110247.json',\n '42115840.json',\n '42148205.json',\n '42151183.json',\n '42196642.json',\n '42203018.json',\n '42203323.json',\n '42203604.json',\n '42203638.json',\n '42205427.json',\n '42205666.json',\n '42205682.json',\n '42205930.json',\n '42206151.json',\n '42206318.json',\n '42206557.json',\n '42206953.json',\n '42207001.json',\n '42207258.json',\n '42207662.json',\n '42207852.json',\n '42207944.json',\n '42208025.json',\n '42208421.json',\n '42209460.json',\n '42209676.json',\n '42217620.json',\n '42217729.json',\n '42218370.json',\n '42219378.json',\n '42225318.json',\n '42225375.json',\n '42225441.json',\n '42226563.json',\n '42228601.json',\n '42228940.json',\n '42249383.json',\n '42282566.json',\n '42294975.json',\n '42318196.json',\n '42322842.json',\n '42322982.json',\n '42323246.json',\n '42324756.json',\n '42324988.json',\n '42325019.json',\n '42325167.json',\n '42325753.json',\n '42326389.json',\n '42328146.json',\n '42330001.json',\n '42333178.json',\n '42336966.json',\n '42337253.json',\n '42337311.json',\n '42338178.json',\n '42338186.json',\n '42338194.json',\n '42338202.json',\n '42338210.json',\n '42338228.json',\n '42338236.json',\n '42338251.json',\n '42338269.json',\n '42338277.json',\n '42338285.json',\n '42338293.json',\n '42338301.json',\n '42338319.json',\n '42338327.json',\n '42338335.json',\n '42338343.json',\n '42338350.json',\n '42338376.json',\n '42338418.json',\n '42338434.json',\n '42338442.json',\n '42338459.json',\n '42338483.json',\n '42338509.json',\n '42338517.json',\n '42338525.json',\n '42338533.json',\n '42338541.json',\n '42338558.json',\n '42338566.json',\n '42338574.json',\n '42338582.json',\n '42338590.json',\n '42338608.json',\n '42338616.json',\n '42338632.json',\n '42338665.json',\n '42338673.json',\n '42339236.json',\n '42343459.json',\n '42343657.json',\n '42343699.json',\n '42343996.json',\n '42344002.json',\n '42344135.json',\n '42344291.json',\n '42344333.json',\n '42344354.json',\n '42344408.json',\n '42344416.json',\n '42344465.json',\n '42344499.json',\n '42347542.json',\n '42347575.json',\n '42347591.json',\n '42347609.json',\n '42347617.json',\n '42347625.json',\n '42347633.json',\n '42347641.json',\n '42347658.json',\n '42347666.json',\n '42347674.json',\n '42355016.json',\n '42355024.json',\n '42355040.json',\n '42355065.json',\n '42355081.json',\n '42355099.json',\n '42355107.json',\n '42355115.json',\n '42355149.json',\n '42355156.json',\n '42355198.json',\n '42355230.json',\n '42355248.json',\n '42355271.json',\n '42355297.json',\n '42355321.json',\n '42355347.json',\n '42355370.json',\n '42355388.json',\n '42355412.json',\n '42355420.json',\n '42355438.json',\n '42355446.json',\n '42355453.json',\n '42355479.json',\n '42355487.json',\n '42355503.json',\n '42355545.json',\n '42355552.json',\n '42357491.json',\n '42357525.json',\n '42357608.json',\n '42357657.json',\n '42357707.json',\n '42357715.json',\n '42357723.json',\n '42357731.json',\n '42357756.json',\n '42357772.json',\n '42357814.json',\n '42357863.json',\n '42357905.json',\n '42357939.json',\n '42358002.json',\n '42361485.json',\n '42361774.json',\n '42363390.json',\n '42363408.json',\n '42365197.json',\n '42386821.json',\n '42387167.json',\n '42387506.json',\n '42387522.json',\n '42387654.json',\n '42387688.json',\n '42692400.json',\n '42715557.json',\n '42740118.json',\n '42838497.json',\n '44322279.json',\n '44322832.json',\n '44949162.json',\n '44949188.json',\n '50299656.json',\n '50812403.json',\n '52172301.json',\n '52216561.json',\n '52591195.json',\n '53001269.json',\n '53001426.json',\n '53018867.json',\n '53091021.json',\n '53091112.json',\n '53164976.json',\n '53614178.json',\n '54031398.json',\n '54077797.json',\n '54084397.json',\n '54183397.json',\n '54198890.json',\n '54201579.json',\n '54230669.json',\n '54263538.json',\n '54277439.json',\n '54278379.json',\n '54288881.json',\n '54293683.json',\n '54328190.json',\n '54372420.json',\n '54379037.json',\n '54380290.json',\n '54381678.json',\n '54385596.json',\n '54390109.json',\n '54672779.json',\n '54810353.json',\n '54811674.json',\n '54811773.json',\n '54819164.json',\n '54829155.json',\n '54829890.json',\n '54830054.json',\n '54830195.json',\n '54830336.json',\n '54833660.json',\n '54834163.json',\n '54834320.json',\n '54834411.json',\n '54834635.json',\n '54837869.json',\n '54839022.json',\n '54839030.json',\n '54839246.json',\n '54843958.json',\n '54843959.json',\n '54844113.json',\n '54844873.json',\n '54845755.json',\n '54846456.json',\n '54846472.json',\n '54846506.json',\n '54846977.json',\n '54852496.json',\n '54852637.json',\n '54854915.json',\n '54861208.json',\n '54881208.json',\n '54910948.json',\n '54915988.json',\n '54917398.json',\n '54950076.json',\n '54952452.json',\n '54967450.json',\n '54970132.json',\n '54970900.json',\n '54971536.json',\n '55029656.json',\n '55944755.json',\n '56114929.json',\n '57953523.json',\n '59091306.json',\n '59091371.json',\n '59092700.json',\n '59096255.json',\n '59096339.json',\n '59164400.json',\n '59164509.json',\n '59164954.json',\n '59165266.json',\n '59165514.json',\n '59165555.json',\n '59165654.json',\n '59165720.json',\n '59165746.json',\n '59165886.json',\n '59165969.json',\n '59166181.json',\n '59166207.json',\n '59166769.json',\n '59168120.json',\n '59168815.json',\n '59169011.json',\n '59169045.json',\n '59171181.json',\n '59175596.json',\n '59176594.json',\n '59278083.json',\n '59450353.json',\n '59454454.json',\n '59515593.json',\n '59516799.json',\n '59593848.json',\n '59643056.json',\n '59829952.json',\n '59890806.json',\n '59897710.json',\n '59897853.json',\n '59898718.json',\n '59899302.json',\n '59950147.json',\n '60797032.json',\n '60954955.json',\n '61098810.json',\n '61349270.json',\n '61351201.json',\n '61578530.json',\n '61588521.json',\n '61746020.json',\n '62237615.json',\n '62310057.json',\n '62322854.json',\n '62359765.json',\n '62403381.json',\n '62603576.json',\n '62647540.json',\n '62660329.json',\n '62673835.json',\n '62688981.json',\n '62703632.json',\n '62721378.json',\n '62722509.json',\n '62725932.json',\n '62731302.json',\n '62761119.json',\n '62761978.json',\n '62762760.json',\n '62764709.json',\n '62770011.json',\n '62831581.json',\n '62840715.json',\n '62848783.json',\n '62860531.json',\n '62860721.json',\n '62889621.json',\n '62892963.json',\n '62893227.json',\n '62967146.json',\n '62985643.json',\n '63020937.json',\n '63023048.json',\n '63090666.json',\n '63098560.json',\n '63117931.json',\n '63127724.json',\n '63139984.json',\n '63239776.json',\n '63249916.json',\n '63256705.json',\n '63355721.json',\n '63383178.json',\n '63417588.json',\n '63422026.json',\n '63467419.json',\n '63481469.json',\n '63482541.json',\n '63588578.json',\n '63588669.json',\n '63608889.json',\n '63713440.json',\n '63731772.json',\n '63791545.json',\n '63824270.json',\n '63825988.json',\n '63832331.json',\n '63853402.json',\n '63874887.json',\n '63885909.json',\n '63889208.json',\n '63909857.json',\n '63929921.json',\n '63939565.json',\n '63977169.json',\n '64028038.json',\n '64032402.json',\n '64039118.json',\n '64063100.json',\n '64066871.json',\n '64071269.json',\n '64103070.json',\n '64140387.json',\n '64148943.json',\n '64182900.json',\n '64191059.json',\n '64192008.json',\n '64230428.json',\n '64245434.json',\n '64317456.json',\n '64358922.json',\n '64386550.json',\n '64387921.json',\n '64442049.json',\n '64458771.json',\n '64476344.json',\n '64529084.json',\n '64529308.json',\n '64529670.json',\n '64529910.json',\n '65109456.json',\n '65218414.json',\n '65231152.json',\n '65546129.json',\n '66761644.json',\n '68138742.json',\n '68182831.json',\n '68201201.json',\n '68206309.json',\n '68207370.json',\n '68235621.json',\n '68320704.json',\n '77502193.json',\n '78157997.json',\n '78191699.json',\n '78192291.json',\n '84734795.json',\n '90960568.json',\n '90968868.json',\n '91130781.json',\n '91574045.json',\n '91582528.json',\n '91582601.json',\n '91582619.json',\n '91582635.json',\n '91582676.json',\n '91582817.json',\n '91582825.json',\n '91582908.json',\n '91582957.json',\n '91583674.json',\n '91583708.json',\n '91583880.json',\n '91583948.json',\n '91584037.json',\n '91584045.json',\n '91584128.json',\n '91584185.json',\n '91584474.json',\n '91584573.json',\n '91584631.json',\n '91590273.json',\n '91590836.json',\n '91590935.json',\n '91591214.json',\n '91591982.json',\n '91592113.json',\n '91623397.json',\n '91665695.json',\n '91720607.json',\n '91747642.json',\n '91775361.json',\n '92543792.json',\n '92565191.json',\n '92618651.json',\n '92621663.json',\n '92623115.json',\n '92636471.json',\n '92637180.json',\n '92639202.json',\n '92639418.json',\n '92639608.json',\n '92643386.json',\n '92643576.json',\n '92643766.json',\n '92644541.json',\n '92644574.json',\n '92645019.json',\n '92645050.json',\n '92645134.json',\n '92645241.json',\n '92645407.json',\n '92646827.json',\n '92647486.json',\n '92655828.json',\n '92659689.json',\n '92660018.json',\n '92660380.json',\n '92660414.json',\n '92661545.json',\n '92662535.json',\n '92665108.json',\n '92665207.json',\n '92669910.json',\n '92670066.json',\n '92671973.json',\n '92672278.json',\n '92673524.json',\n '92673680.json',\n '92675453.json',\n '92889492.json',\n '92936194.json',\n '92948298.json',\n '94050598.json',\n '94185006.json',\n '94186988.json',\n '94188661.json',\n '94222643.json',\n '94251097.json',\n '94262458.json',\n '94263779.json',\n '94265618.json',\n '94266335.json',\n '94267937.json',\n '94274859.json',\n '94276250.json',\n '94276263.json',\n '94277183.json',\n '94284858.json',\n '94288545.json',\n '94288966.json',\n '94291432.json',\n '94311669.json',\n '94316429.json',\n '94356318.json',\n '94372158.json',\n '94381183.json',\n '94394533.json',\n '94398211.json',\n '94400876.json',\n '94429289.json',\n '94429362.json',\n '94430808.json',\n '94430972.json',\n '94431145.json',\n '94438629.json',\n '94442365.json',\n '94454162.json',\n '94462405.json',\n '94473329.json',\n '94482924.json',\n '94487527.json',\n '94489044.json',\n '94495751.json',\n '94496791.json',\n '94497617.json',\n '94534963.json',\n '94711090.json',\n '94734795.json',\n '94799723.json',\n '94799913.json',\n '94805306.json',\n '94806841.json',\n '94807120.json',\n '94808482.json',\n '94830585.json',\n '94837911.json',\n '95027280.json',\n '95042255.json',\n '95044103.json',\n '95049763.json',\n '95054219.json',\n '95061214.json',\n '95061743.json',\n '95095469.json',\n '95098661.json',\n '95110797.json',\n '95115937.json',\n '95120234.json',\n '95165304.json',\n '95213906.json',\n '95243119.json',\n '95271490.json',\n '95300091.json',\n '95308292.json',\n '95355897.json',\n '95394391.json',\n '95405890.json',\n '95410494.json',\n '95412797.json',\n '95427241.json',\n '95463998.json',\n '95494993.json',\n '95495099.json',\n '95507091.json',\n '95563698.json',\n '95599742.json',\n '95808101.json',\n '95869640.json',\n '95906202.json',\n '95948956.json',\n '95968517.json',\n '96327994.json',\n '96328398.json',\n '96329891.json',\n '96330998.json',\n '96331590.json',\n '96332390.json',\n '96333695.json',\n '96334792.json',\n '96335096.json',\n '96336490.json',\n '96337290.json',\n '96339692.json',\n '96339791.json',\n '96339999.json',\n '96340690.json',\n '96341490.json',\n '96342993.json',\n '96343496.json',\n '96344197.json',\n '96345798.json',\n '96346796.json',\n '96347695.json',\n '96347794.json',\n '96350798.json',\n '96351796.json',\n '96351994.json',\n '96354493.json',\n '96355193.json',\n '97016091.json',\n '97020796.json',\n '97031892.json',\n '97033690.json',\n '97036198.json',\n '97869598.json',\n '97895692.json',\n '98000888.json',\n '98014202.json',\n '98017338.json',\n '98020480.json',\n '98042690.json',\n '98042716.json',\n '98042724.json',\n '98042740.json',\n '98042799.json',\n '98042831.json',\n '98042849.json',\n '98042856.json',\n '98043474.json',\n '98043508.json',\n '98043516.json',\n '98043532.json',\n '98043540.json',\n '98043581.json',\n '98043599.json',\n '98043615.json',\n '98043631.json',\n '98043649.json',\n '98044332.json',\n '98044340.json',\n '98044357.json',\n '98044365.json',\n '98044381.json',\n '98044407.json',\n '98044415.json',\n '98044431.json',\n '98044449.json',\n '98044464.json',\n '98044472.json',\n '98044480.json',\n '98044498.json',\n '98044506.json',\n '98044522.json',\n '98044530.json',\n '98044548.json',\n '98044555.json',\n '98044563.json',\n '98044571.json',\n '98044589.json',\n '98044597.json',\n '98044605.json',\n '98044612.json',\n '98044613.json',\n '98044621.json',\n '98044639.json',\n '98044647.json',\n '98044654.json',\n '98044662.json',\n '98044670.json',\n '98089592.json',\n '98091358.json',\n '98101173.json',\n '98104730.json',\n '98121791.json',\n '98121817.json',\n '98121833.json',\n '98121841.json',\n '98121866.json']"
     },
     "execution_count": 4,
     "metadata": {},
     "output_type": "execute_result"
    }
   ],
   "source": [
    "import os\n",
    "os.listdir('train_data/full/labels')"
   ],
   "metadata": {
    "collapsed": false
   }
  },
  {
   "cell_type": "code",
   "execution_count": 6,
   "outputs": [],
   "source": [
    "files = [f for f in os.listdir('train_data/full/labels') if os.path.isfile(f)]"
   ],
   "metadata": {
    "collapsed": false
   }
  },
  {
   "cell_type": "code",
   "execution_count": 7,
   "outputs": [
    {
     "data": {
      "text/plain": "[]"
     },
     "execution_count": 7,
     "metadata": {},
     "output_type": "execute_result"
    }
   ],
   "source": [
    "files"
   ],
   "metadata": {
    "collapsed": false
   }
  },
  {
   "cell_type": "code",
   "execution_count": 15,
   "outputs": [
    {
     "name": "stdout",
     "output_type": "stream",
     "text": [
      "['24252710.json', '24295479.json', '24353013.json', '24424020.json', '24432064.json', '24529281.json', '24530545.json', '26237099.json', '28005312.json', '28008332.json', '28025021.json', '28027647.json', '28047389.json', '28079838.json', '28822880.json', '28865640.json', '29025210.json', '29029972.json', '29051091.json', '30603179.json', '30639017.json', '30639124.json', '42012526.json', '42026278.json', '42026633.json', '42026781.json', '42026872.json', '42030098.json', '42030106.json', '42030189.json', '42030239.json', '42030312.json', '42030361.json', '42030510.json', '42030973.json', '42031922.json', '42031971.json', '42032045.json', '42032110.json', '42032250.json', '42038323.json', '42038448.json', '42038455.json', '42038497.json', '42039958.json', '42040188.json', '42040550.json', '42040634.json', '42040741.json', '42070607.json', '42071019.json', '42071043.json', '42071373.json', '42091595.json', '42099309.json', '42099358.json', '42110247.json', '42115840.json', '42148205.json', '42151183.json', '42196642.json', '42203018.json', '42203323.json', '42203604.json', '42203638.json', '42205427.json', '42205666.json', '42205682.json', '42205930.json', '42206151.json', '42206318.json', '42206557.json', '42206953.json', '42207001.json', '42207258.json', '42207662.json', '42207852.json', '42207944.json', '42208025.json', '42208421.json', '42209460.json', '42209676.json', '42217620.json', '42217729.json', '42218370.json', '42219378.json', '42225318.json', '42225375.json', '42225441.json', '42226563.json', '42228601.json', '42228940.json', '42249383.json', '42282566.json', '42294975.json', '42318196.json', '42322842.json', '42322982.json', '42323246.json', '42324756.json', '42324988.json', '42325019.json', '42325167.json', '42325753.json', '42326389.json', '42328146.json', '42330001.json', '42333178.json', '42336966.json', '42337253.json', '42337311.json', '42338178.json', '42338186.json', '42338194.json', '42338202.json', '42338210.json', '42338228.json', '42338236.json', '42338251.json', '42338269.json', '42338277.json', '42338285.json', '42338293.json', '42338301.json', '42338319.json', '42338327.json', '42338335.json', '42338343.json', '42338350.json', '42338376.json', '42338418.json', '42338434.json', '42338442.json', '42338459.json', '42338483.json', '42338509.json', '42338517.json', '42338525.json', '42338533.json', '42338541.json', '42338558.json', '42338566.json', '42338574.json', '42338582.json', '42338590.json', '42338608.json', '42338616.json', '42338632.json', '42338665.json', '42338673.json', '42339236.json', '42343459.json', '42343657.json', '42343699.json', '42343996.json', '42344002.json', '42344135.json', '42344291.json', '42344333.json', '42344354.json', '42344408.json', '42344416.json', '42344465.json', '42344499.json', '42347542.json', '42347575.json', '42347591.json', '42347609.json', '42347617.json', '42347625.json', '42347633.json', '42347641.json', '42347658.json', '42347666.json', '42347674.json', '42355016.json', '42355024.json', '42355040.json', '42355065.json', '42355081.json', '42355099.json', '42355107.json', '42355115.json', '42355149.json', '42355156.json', '42355198.json', '42355230.json', '42355248.json', '42355271.json', '42355297.json', '42355321.json', '42355347.json', '42355370.json', '42355388.json', '42355412.json', '42355420.json', '42355438.json', '42355446.json', '42355453.json', '42355479.json', '42355487.json', '42355503.json', '42355545.json', '42355552.json', '42357491.json', '42357525.json', '42357608.json', '42357657.json', '42357707.json', '42357715.json', '42357723.json', '42357731.json', '42357756.json', '42357772.json', '42357814.json', '42357863.json', '42357905.json', '42357939.json', '42358002.json', '42361485.json', '42361774.json', '42363390.json', '42363408.json', '42365197.json', '42386821.json', '42387167.json', '42387506.json', '42387522.json', '42387654.json', '42387688.json', '42692400.json', '42715557.json', '42740118.json', '42838497.json', '44322279.json', '44322832.json', '44949162.json', '44949188.json', '50299656.json', '50812403.json', '52172301.json', '52216561.json', '52591195.json', '53001269.json', '53001426.json', '53018867.json', '53091021.json', '53091112.json', '53164976.json', '53614178.json', '54031398.json', '54077797.json', '54084397.json', '54183397.json', '54198890.json', '54201579.json', '54230669.json', '54263538.json', '54277439.json', '54278379.json', '54288881.json', '54293683.json', '54328190.json', '54372420.json', '54379037.json', '54380290.json', '54381678.json', '54385596.json', '54390109.json', '54672779.json', '54810353.json', '54811674.json', '54811773.json', '54819164.json', '54829155.json', '54829890.json', '54830054.json', '54830195.json', '54830336.json', '54833660.json', '54834163.json', '54834320.json', '54834411.json', '54834635.json', '54837869.json', '54839022.json', '54839030.json', '54839246.json', '54843958.json', '54843959.json', '54844113.json', '54844873.json', '54845755.json', '54846456.json', '54846472.json', '54846506.json', '54846977.json', '54852496.json', '54852637.json', '54854915.json', '54861208.json', '54881208.json', '54910948.json', '54915988.json', '54917398.json', '54950076.json', '54952452.json', '54967450.json', '54970132.json', '54970900.json', '54971536.json', '55029656.json', '55944755.json', '56114929.json', '57953523.json', '59091306.json', '59091371.json', '59092700.json', '59096255.json', '59096339.json', '59164400.json', '59164509.json', '59164954.json', '59165266.json', '59165514.json', '59165555.json', '59165654.json', '59165720.json', '59165746.json', '59165886.json', '59165969.json', '59166181.json', '59166207.json', '59166769.json', '59168120.json', '59168815.json', '59169011.json', '59169045.json', '59171181.json', '59175596.json', '59176594.json', '59278083.json', '59450353.json', '59454454.json', '59515593.json', '59516799.json', '59593848.json', '59643056.json', '59829952.json', '59890806.json', '59897710.json', '59897853.json', '59898718.json', '59899302.json', '59950147.json', '60797032.json', '60954955.json', '61098810.json', '61349270.json', '61351201.json', '61578530.json', '61588521.json', '61746020.json', '62237615.json', '62310057.json', '62322854.json', '62359765.json', '62403381.json', '62603576.json', '62647540.json', '62660329.json', '62673835.json', '62688981.json', '62703632.json', '62721378.json', '62722509.json', '62725932.json', '62731302.json', '62761119.json', '62761978.json', '62762760.json', '62764709.json', '62770011.json', '62831581.json', '62840715.json', '62848783.json', '62860531.json', '62860721.json', '62889621.json', '62892963.json', '62893227.json', '62967146.json', '62985643.json', '63020937.json', '63023048.json', '63090666.json', '63098560.json', '63117931.json', '63127724.json', '63139984.json', '63239776.json', '63249916.json', '63256705.json', '63355721.json', '63383178.json', '63417588.json', '63422026.json', '63467419.json', '63481469.json', '63482541.json', '63588578.json', '63588669.json', '63608889.json', '63713440.json', '63731772.json', '63791545.json', '63824270.json', '63825988.json', '63832331.json', '63853402.json', '63874887.json', '63885909.json', '63889208.json', '63909857.json', '63929921.json', '63939565.json', '63977169.json', '64028038.json', '64032402.json', '64039118.json', '64063100.json', '64066871.json', '64071269.json', '64103070.json', '64140387.json', '64148943.json', '64182900.json', '64191059.json', '64192008.json', '64230428.json', '64245434.json', '64317456.json', '64358922.json', '64386550.json', '64387921.json', '64442049.json', '64458771.json', '64476344.json', '64529084.json', '64529308.json', '64529670.json', '64529910.json', '65109456.json', '65218414.json', '65231152.json', '65546129.json', '66761644.json', '68138742.json', '68182831.json', '68201201.json', '68206309.json', '68207370.json', '68235621.json', '68320704.json', '77502193.json', '78157997.json', '78191699.json', '78192291.json', '84734795.json', '90960568.json', '90968868.json', '91130781.json', '91574045.json', '91582528.json', '91582601.json', '91582619.json', '91582635.json', '91582676.json', '91582817.json', '91582825.json', '91582908.json', '91582957.json', '91583674.json', '91583708.json', '91583880.json', '91583948.json', '91584037.json', '91584045.json', '91584128.json', '91584185.json', '91584474.json', '91584573.json', '91584631.json', '91590273.json', '91590836.json', '91590935.json', '91591214.json', '91591982.json', '91592113.json', '91623397.json', '91665695.json', '91720607.json', '91747642.json', '91775361.json', '92543792.json', '92565191.json', '92618651.json', '92621663.json', '92623115.json', '92636471.json', '92637180.json', '92639202.json', '92639418.json', '92639608.json', '92643386.json', '92643576.json', '92643766.json', '92644541.json', '92644574.json', '92645019.json', '92645050.json', '92645134.json', '92645241.json', '92645407.json', '92646827.json', '92647486.json', '92655828.json', '92659689.json', '92660018.json', '92660380.json', '92660414.json', '92661545.json', '92662535.json', '92665108.json', '92665207.json', '92669910.json', '92670066.json', '92671973.json', '92672278.json', '92673524.json', '92673680.json', '92675453.json', '92889492.json', '92936194.json', '92948298.json', '94050598.json', '94185006.json', '94186988.json', '94188661.json', '94222643.json', '94251097.json', '94262458.json', '94263779.json', '94265618.json', '94266335.json', '94267937.json', '94274859.json', '94276250.json', '94276263.json', '94277183.json', '94284858.json', '94288545.json', '94288966.json', '94291432.json', '94311669.json', '94316429.json', '94356318.json', '94372158.json', '94381183.json', '94394533.json', '94398211.json', '94400876.json', '94429289.json', '94429362.json', '94430808.json', '94430972.json', '94431145.json', '94438629.json', '94442365.json', '94454162.json', '94462405.json', '94473329.json', '94482924.json', '94487527.json', '94489044.json', '94495751.json', '94496791.json', '94497617.json', '94534963.json', '94711090.json', '94734795.json', '94799723.json', '94799913.json', '94805306.json', '94806841.json', '94807120.json', '94808482.json', '94830585.json', '94837911.json', '95027280.json', '95042255.json', '95044103.json', '95049763.json', '95054219.json', '95061214.json', '95061743.json', '95095469.json', '95098661.json', '95110797.json', '95115937.json', '95120234.json', '95165304.json', '95213906.json', '95243119.json', '95271490.json', '95300091.json', '95308292.json', '95355897.json', '95394391.json', '95405890.json', '95410494.json', '95412797.json', '95427241.json', '95463998.json', '95494993.json', '95495099.json', '95507091.json', '95563698.json', '95599742.json', '95808101.json', '95869640.json', '95906202.json', '95948956.json', '95968517.json', '96327994.json', '96328398.json', '96329891.json', '96330998.json', '96331590.json', '96332390.json', '96333695.json', '96334792.json', '96335096.json', '96336490.json', '96337290.json', '96339692.json', '96339791.json', '96339999.json', '96340690.json', '96341490.json', '96342993.json', '96343496.json', '96344197.json', '96345798.json', '96346796.json', '96347695.json', '96347794.json', '96350798.json', '96351796.json', '96351994.json', '96354493.json', '96355193.json', '97016091.json', '97020796.json', '97031892.json', '97033690.json', '97036198.json', '97869598.json', '97895692.json', '98000888.json', '98014202.json', '98017338.json', '98020480.json', '98042690.json', '98042716.json', '98042724.json', '98042740.json', '98042799.json', '98042831.json', '98042849.json', '98042856.json', '98043474.json', '98043508.json', '98043516.json', '98043532.json', '98043540.json', '98043581.json', '98043599.json', '98043615.json', '98043631.json', '98043649.json', '98044332.json', '98044340.json', '98044357.json', '98044365.json', '98044381.json', '98044407.json', '98044415.json', '98044431.json', '98044449.json', '98044464.json', '98044472.json', '98044480.json', '98044498.json', '98044506.json', '98044522.json', '98044530.json', '98044548.json', '98044555.json', '98044563.json', '98044571.json', '98044589.json', '98044597.json', '98044605.json', '98044612.json', '98044613.json', '98044621.json', '98044639.json', '98044647.json', '98044654.json', '98044662.json', '98044670.json', '98089592.json', '98091358.json', '98101173.json', '98104730.json', '98121791.json', '98121817.json', '98121833.json', '98121841.json', '98121866.json'] 1\n"
     ]
    }
   ],
   "source": [
    "from os import walk\n",
    "\n",
    "f = []\n",
    "layer = 1\n",
    "w = walk('train_data/full/labels')\n",
    "\n",
    "for (dirpath, dirnames, filenames) in w:\n"
   ],
   "metadata": {
    "collapsed": false
   }
  },
  {
   "cell_type": "code",
   "execution_count": 16,
   "outputs": [],
   "source": [
    "files = [f for f in os.listdir('train_data/full/labels') if os.path.isfile(f)]"
   ],
   "metadata": {
    "collapsed": false
   }
  },
  {
   "cell_type": "code",
   "execution_count": 17,
   "outputs": [
    {
     "data": {
      "text/plain": "[]"
     },
     "execution_count": 17,
     "metadata": {},
     "output_type": "execute_result"
    }
   ],
   "source": [
    "files"
   ],
   "metadata": {
    "collapsed": false
   }
  },
  {
   "cell_type": "code",
   "execution_count": 78,
   "outputs": [],
   "source": [
    "import cv2\n",
    "img = cv2.imread('./train_data/full/images/24252710.jpg')"
   ],
   "metadata": {
    "collapsed": false
   }
  },
  {
   "cell_type": "code",
   "execution_count": 110,
   "outputs": [],
   "source": [
    "dir_path = 'train_data/full/labels/'\n",
    "dir_path_2 = 'train_data/part/labels/'\n",
    "\n",
    "# list to store files\n",
    "res = []\n",
    "res_2 = []\n",
    "\n",
    "# Iterate directory\n",
    "for file_path in os.listdir(dir_path):\n",
    "    # check if current file_path is a file\n",
    "    if os.path.isfile(os.path.join(dir_path, file_path)):\n",
    "        # add filename to list\n",
    "        res.append(file_path)\n",
    "\n",
    "for file_path in os.listdir(dir_path_2):\n",
    "    # check if current file_path is a file\n",
    "    if os.path.isfile(os.path.join(dir_path_2, file_path)):\n",
    "        # add filename to list\n",
    "        res_2.append(file_path)"
   ],
   "metadata": {
    "collapsed": false
   }
  },
  {
   "cell_type": "code",
   "execution_count": 111,
   "outputs": [],
   "source": [
    "import json\n",
    "\n",
    "for file in res:\n",
    "    with open(dir_path + file) as f:\n",
    "        a = json.loads(f.read())\n",
    "\n",
    "        img = cv2.imread('train_data/full/images/' + file[:-5]+'.jpg')\n",
    "\n",
    "        x = a[0]['annotations'][0]['coordinates']['x'] / img.shape[1]\n",
    "        y = a[0]['annotations'][0]['coordinates']['y'] / img.shape[0]\n",
    "        width = a[0]['annotations'][0]['coordinates']['width'] / img.shape[1]\n",
    "        height = a[0]['annotations'][0]['coordinates']['height'] / img.shape[0]\n",
    "\n",
    "        data = f'number {x} {y} {width} {height}'\n",
    "\n",
    "        with open(f'new_labels/{file[:-4]}txt', 'w') as m:\n",
    "            m.write(data)\n",
    "\n",
    "\n",
    "for file in res_2:\n",
    "    with open(dir_path_2 + file) as d:\n",
    "        a = json.loads(d.read())\n",
    "\n",
    "        img = cv2.imread('train_data/part/images/' + file[:-5]+'.jpg')\n",
    "\n",
    "        x = a[0]['annotations'][0]['coordinates']['x'] / img.shape[1]\n",
    "        y = a[0]['annotations'][0]['coordinates']['y'] / img.shape[0]\n",
    "        width = a[0]['annotations'][0]['coordinates']['width'] / img.shape[1]\n",
    "        height = a[0]['annotations'][0]['coordinates']['height'] / img.shape[0]\n",
    "\n",
    "        data = f'number {x} {y} {width} {height}'\n",
    "\n",
    "        with open(f'new_labels/{file[:-4]}txt', 'a') as k:\n",
    "            k.write(data)"
   ],
   "metadata": {
    "collapsed": false
   }
  },
  {
   "cell_type": "code",
   "execution_count": 73,
   "outputs": [],
   "source": [
    "import json\n",
    "import csv\n",
    "\n",
    "labels = []\n",
    "\n",
    "for file in res:\n",
    "    labels.append([file[:-4] + 'jpg', file[:-5]])\n",
    "\n",
    "for file in res_2:\n",
    "    labels.append([file[:-4] + 'jpg', file[:-5]])\n",
    "\n",
    "with open('easy_labels.csv', 'w', encoding='UTF8') as f:\n",
    "    fields = ('filename', 'words')\n",
    "    writer = csv.DictWriter(f, fieldnames=fields, lineterminator = '\\n')\n",
    "    for row in labels:\n",
    "        writer.writerow({'filename': row[0], 'words': row[1].replace(\"_\",\"\")})\n"
   ],
   "metadata": {
    "collapsed": false
   }
  },
  {
   "cell_type": "code",
   "execution_count": 77,
   "outputs": [],
   "source": [
    "import cv2\n",
    "img = cv2.imread('./train_data/full/images/24252710.jpg')"
   ],
   "metadata": {
    "collapsed": false
   }
  },
  {
   "cell_type": "code",
   "execution_count": 84,
   "outputs": [
    {
     "ename": "AttributeError",
     "evalue": "'list' object has no attribute 'shape'",
     "output_type": "error",
     "traceback": [
      "\u001B[1;31m---------------------------------------------------------------------------\u001B[0m",
      "\u001B[1;31mAttributeError\u001B[0m                            Traceback (most recent call last)",
      "Cell \u001B[1;32mIn[84], line 1\u001B[0m\n\u001B[1;32m----> 1\u001B[0m \u001B[43ma\u001B[49m\u001B[38;5;241;43m.\u001B[39;49m\u001B[43mshape\u001B[49m[\u001B[38;5;241m0\u001B[39m]\n",
      "\u001B[1;31mAttributeError\u001B[0m: 'list' object has no attribute 'shape'"
     ]
    }
   ],
   "source": [
    "a.shape[0]"
   ],
   "metadata": {
    "collapsed": false
   }
  },
  {
   "cell_type": "code",
   "execution_count": null,
   "outputs": [],
   "source": [],
   "metadata": {
    "collapsed": false
   }
  }
 ],
 "metadata": {
  "kernelspec": {
   "display_name": "Python 3",
   "language": "python",
   "name": "python3"
  },
  "language_info": {
   "codemirror_mode": {
    "name": "ipython",
    "version": 2
   },
   "file_extension": ".py",
   "mimetype": "text/x-python",
   "name": "python",
   "nbconvert_exporter": "python",
   "pygments_lexer": "ipython2",
   "version": "2.7.6"
  }
 },
 "nbformat": 4,
 "nbformat_minor": 0
}
